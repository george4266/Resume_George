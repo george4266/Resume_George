{
 "cells": [
  {
   "cell_type": "markdown",
   "id": "c801baef",
   "metadata": {},
   "source": [
    "# Creating Confusion Matrix and ROC Curve"
   ]
  },
  {
   "cell_type": "code",
   "execution_count": 1,
   "id": "ad95e107",
   "metadata": {},
   "outputs": [],
   "source": [
    "import numpy as np\n",
    "import pandas as pd\n",
    "import seaborn as sns\n",
    "\n",
    "import matplotlib.pyplot as plt\n",
    "\n",
    "import sklearn.metrics\n",
    "from sklearn.model_selection import train_test_split\n",
    "from sklearn import svm\n",
    "from sklearn.utils.multiclass import unique_labels\n",
    "from sklearn.linear_model import LogisticRegression\n",
    "from sklearn.tree import DecisionTreeClassifier\n",
    "from sklearn.ensemble import RandomForestClassifier"
   ]
  },
  {
   "cell_type": "code",
   "execution_count": 2,
   "id": "d4bcb99c",
   "metadata": {},
   "outputs": [
    {
     "data": {
      "text/html": [
       "<div>\n",
       "<style scoped>\n",
       "    .dataframe tbody tr th:only-of-type {\n",
       "        vertical-align: middle;\n",
       "    }\n",
       "\n",
       "    .dataframe tbody tr th {\n",
       "        vertical-align: top;\n",
       "    }\n",
       "\n",
       "    .dataframe thead th {\n",
       "        text-align: right;\n",
       "    }\n",
       "</style>\n",
       "<table border=\"1\" class=\"dataframe\">\n",
       "  <thead>\n",
       "    <tr style=\"text-align: right;\">\n",
       "      <th></th>\n",
       "      <th>FRD_IND</th>\n",
       "      <th>APPRD_AUTHZN_CNT</th>\n",
       "      <th>AVG_DLY_AUTHZN_AMT</th>\n",
       "      <th>MRCH_CATG_CD</th>\n",
       "      <th>POS_ENTRY_MTHD_CD</th>\n",
       "      <th>RCURG_AUTHZN_IND</th>\n",
       "      <th>DISTANCE_FROM_HOME</th>\n",
       "      <th>ACCT_CURR_BAL</th>\n",
       "      <th>AUTHZN_AMT</th>\n",
       "      <th>AUTHZN_OUTSTD_AMT</th>\n",
       "      <th>PLSTC_ISU_DUR</th>\n",
       "    </tr>\n",
       "  </thead>\n",
       "  <tbody>\n",
       "    <tr>\n",
       "      <th>0</th>\n",
       "      <td>0</td>\n",
       "      <td>3</td>\n",
       "      <td>7</td>\n",
       "      <td>5812</td>\n",
       "      <td>90</td>\n",
       "      <td>0</td>\n",
       "      <td>0.000000</td>\n",
       "      <td>2498.21</td>\n",
       "      <td>15.52</td>\n",
       "      <td>94.28</td>\n",
       "      <td>805</td>\n",
       "    </tr>\n",
       "    <tr>\n",
       "      <th>1</th>\n",
       "      <td>0</td>\n",
       "      <td>1</td>\n",
       "      <td>6</td>\n",
       "      <td>5541</td>\n",
       "      <td>90</td>\n",
       "      <td>0</td>\n",
       "      <td>0.000000</td>\n",
       "      <td>88.88</td>\n",
       "      <td>46.56</td>\n",
       "      <td>56.31</td>\n",
       "      <td>68</td>\n",
       "    </tr>\n",
       "    <tr>\n",
       "      <th>2</th>\n",
       "      <td>0</td>\n",
       "      <td>4</td>\n",
       "      <td>0</td>\n",
       "      <td>5965</td>\n",
       "      <td>81</td>\n",
       "      <td>0</td>\n",
       "      <td>358.850300</td>\n",
       "      <td>1934.36</td>\n",
       "      <td>16.34</td>\n",
       "      <td>927.13</td>\n",
       "      <td>190</td>\n",
       "    </tr>\n",
       "    <tr>\n",
       "      <th>3</th>\n",
       "      <td>0</td>\n",
       "      <td>0</td>\n",
       "      <td>3</td>\n",
       "      <td>5542</td>\n",
       "      <td>90</td>\n",
       "      <td>0</td>\n",
       "      <td>4.293625</td>\n",
       "      <td>916.04</td>\n",
       "      <td>1.00</td>\n",
       "      <td>0.00</td>\n",
       "      <td>217</td>\n",
       "    </tr>\n",
       "    <tr>\n",
       "      <th>4</th>\n",
       "      <td>0</td>\n",
       "      <td>1</td>\n",
       "      <td>2</td>\n",
       "      <td>5814</td>\n",
       "      <td>90</td>\n",
       "      <td>0</td>\n",
       "      <td>509.830350</td>\n",
       "      <td>166.62</td>\n",
       "      <td>10.66</td>\n",
       "      <td>10.66</td>\n",
       "      <td>110</td>\n",
       "    </tr>\n",
       "  </tbody>\n",
       "</table>\n",
       "</div>"
      ],
      "text/plain": [
       "   FRD_IND  APPRD_AUTHZN_CNT  AVG_DLY_AUTHZN_AMT  MRCH_CATG_CD  \\\n",
       "0        0                 3                   7          5812   \n",
       "1        0                 1                   6          5541   \n",
       "2        0                 4                   0          5965   \n",
       "3        0                 0                   3          5542   \n",
       "4        0                 1                   2          5814   \n",
       "\n",
       "   POS_ENTRY_MTHD_CD  RCURG_AUTHZN_IND  DISTANCE_FROM_HOME  ACCT_CURR_BAL  \\\n",
       "0                 90                 0            0.000000        2498.21   \n",
       "1                 90                 0            0.000000          88.88   \n",
       "2                 81                 0          358.850300        1934.36   \n",
       "3                 90                 0            4.293625         916.04   \n",
       "4                 90                 0          509.830350         166.62   \n",
       "\n",
       "   AUTHZN_AMT  AUTHZN_OUTSTD_AMT  PLSTC_ISU_DUR  \n",
       "0       15.52              94.28            805  \n",
       "1       46.56              56.31             68  \n",
       "2       16.34             927.13            190  \n",
       "3        1.00               0.00            217  \n",
       "4       10.66              10.66            110  "
      ]
     },
     "execution_count": 2,
     "metadata": {},
     "output_type": "execute_result"
    }
   ],
   "source": [
    "#George Code below\n",
    "df= pd.read_csv('sample.csv')\n",
    "df.dropna()\n",
    "df.head()\n",
    "# df.columns"
   ]
  },
  {
   "cell_type": "code",
   "execution_count": null,
   "id": "4723c69d",
   "metadata": {},
   "outputs": [],
   "source": []
  },
  {
   "cell_type": "markdown",
   "id": "3ec69892",
   "metadata": {},
   "source": [
    "### Training Testing Split"
   ]
  },
  {
   "cell_type": "code",
   "execution_count": 3,
   "id": "ea46eada",
   "metadata": {},
   "outputs": [],
   "source": [
    "y_col, x_col = df.columns[0], df.columns[1::]\n",
    "x_train, x_test, y_train, y_test = train_test_split(df[x_col], df[y_col], test_size = 0.20, random_state = 444)\n",
    "\n",
    "clf = svm.LinearSVC(max_iter = 500)"
   ]
  },
  {
   "cell_type": "code",
   "execution_count": 4,
   "id": "81fdd78c",
   "metadata": {},
   "outputs": [
    {
     "data": {
      "text/html": [
       "<div>\n",
       "<style scoped>\n",
       "    .dataframe tbody tr th:only-of-type {\n",
       "        vertical-align: middle;\n",
       "    }\n",
       "\n",
       "    .dataframe tbody tr th {\n",
       "        vertical-align: top;\n",
       "    }\n",
       "\n",
       "    .dataframe thead th {\n",
       "        text-align: right;\n",
       "    }\n",
       "</style>\n",
       "<table border=\"1\" class=\"dataframe\">\n",
       "  <thead>\n",
       "    <tr style=\"text-align: right;\">\n",
       "      <th></th>\n",
       "      <th>APPRD_AUTHZN_CNT</th>\n",
       "      <th>AVG_DLY_AUTHZN_AMT</th>\n",
       "      <th>MRCH_CATG_CD</th>\n",
       "      <th>POS_ENTRY_MTHD_CD</th>\n",
       "      <th>RCURG_AUTHZN_IND</th>\n",
       "      <th>DISTANCE_FROM_HOME</th>\n",
       "      <th>ACCT_CURR_BAL</th>\n",
       "      <th>AUTHZN_AMT</th>\n",
       "      <th>AUTHZN_OUTSTD_AMT</th>\n",
       "      <th>PLSTC_ISU_DUR</th>\n",
       "    </tr>\n",
       "  </thead>\n",
       "  <tbody>\n",
       "    <tr>\n",
       "      <th>695527</th>\n",
       "      <td>0</td>\n",
       "      <td>0</td>\n",
       "      <td>3063</td>\n",
       "      <td>1</td>\n",
       "      <td>0</td>\n",
       "      <td>346.780330</td>\n",
       "      <td>0.00</td>\n",
       "      <td>0.00</td>\n",
       "      <td>0.00</td>\n",
       "      <td>123</td>\n",
       "    </tr>\n",
       "    <tr>\n",
       "      <th>110525</th>\n",
       "      <td>3</td>\n",
       "      <td>6</td>\n",
       "      <td>6011</td>\n",
       "      <td>2</td>\n",
       "      <td>0</td>\n",
       "      <td>17.270464</td>\n",
       "      <td>232.82</td>\n",
       "      <td>63.00</td>\n",
       "      <td>317.97</td>\n",
       "      <td>642</td>\n",
       "    </tr>\n",
       "    <tr>\n",
       "      <th>1910345</th>\n",
       "      <td>1</td>\n",
       "      <td>1</td>\n",
       "      <td>5812</td>\n",
       "      <td>90</td>\n",
       "      <td>0</td>\n",
       "      <td>15.674769</td>\n",
       "      <td>282.81</td>\n",
       "      <td>4.33</td>\n",
       "      <td>4.33</td>\n",
       "      <td>284</td>\n",
       "    </tr>\n",
       "    <tr>\n",
       "      <th>1052733</th>\n",
       "      <td>1</td>\n",
       "      <td>2</td>\n",
       "      <td>5812</td>\n",
       "      <td>90</td>\n",
       "      <td>0</td>\n",
       "      <td>22.744324</td>\n",
       "      <td>411.73</td>\n",
       "      <td>5.02</td>\n",
       "      <td>5.02</td>\n",
       "      <td>464</td>\n",
       "    </tr>\n",
       "    <tr>\n",
       "      <th>820788</th>\n",
       "      <td>1</td>\n",
       "      <td>3</td>\n",
       "      <td>5812</td>\n",
       "      <td>90</td>\n",
       "      <td>0</td>\n",
       "      <td>53.759247</td>\n",
       "      <td>3664.23</td>\n",
       "      <td>34.12</td>\n",
       "      <td>35.12</td>\n",
       "      <td>397</td>\n",
       "    </tr>\n",
       "  </tbody>\n",
       "</table>\n",
       "</div>"
      ],
      "text/plain": [
       "         APPRD_AUTHZN_CNT  AVG_DLY_AUTHZN_AMT  MRCH_CATG_CD  \\\n",
       "695527                  0                   0          3063   \n",
       "110525                  3                   6          6011   \n",
       "1910345                 1                   1          5812   \n",
       "1052733                 1                   2          5812   \n",
       "820788                  1                   3          5812   \n",
       "\n",
       "         POS_ENTRY_MTHD_CD  RCURG_AUTHZN_IND  DISTANCE_FROM_HOME  \\\n",
       "695527                   1                 0          346.780330   \n",
       "110525                   2                 0           17.270464   \n",
       "1910345                 90                 0           15.674769   \n",
       "1052733                 90                 0           22.744324   \n",
       "820788                  90                 0           53.759247   \n",
       "\n",
       "         ACCT_CURR_BAL  AUTHZN_AMT  AUTHZN_OUTSTD_AMT  PLSTC_ISU_DUR  \n",
       "695527            0.00        0.00               0.00            123  \n",
       "110525          232.82       63.00             317.97            642  \n",
       "1910345         282.81        4.33               4.33            284  \n",
       "1052733         411.73        5.02               5.02            464  \n",
       "820788         3664.23       34.12              35.12            397  "
      ]
     },
     "execution_count": 4,
     "metadata": {},
     "output_type": "execute_result"
    }
   ],
   "source": [
    "x_train.head()"
   ]
  },
  {
   "cell_type": "code",
   "execution_count": null,
   "id": "9d74247c",
   "metadata": {},
   "outputs": [],
   "source": [
    "#fit and create score for the training and testing values\n",
    "clf.fit(x_train, y_train) # takes about 2-3 minutes to fit or 4 if saver on\n",
    "clf.score(x_test ,y_test)\n",
    "\n",
    "\n",
    "y_pred=clf.predict(x_test) #to create a y predict parameter for metrics\n",
    "# np.sum(y_test), np.sum(y_train), np.sum(y_pred) #returns: (485, 2005, 1)\n"
   ]
  },
  {
   "cell_type": "markdown",
   "id": "d0f9b9f3",
   "metadata": {},
   "source": [
    "### Accuracy Score, Confusion Matrix, and  ROC Curve"
   ]
  },
  {
   "cell_type": "code",
   "execution_count": null,
   "id": "ce757600",
   "metadata": {},
   "outputs": [],
   "source": [
    "clfModels = []\n",
    "clfModels.append(clf)"
   ]
  },
  {
   "cell_type": "markdown",
   "id": "cf160786",
   "metadata": {},
   "source": [
    "#### F1 and Accuracy Score Function"
   ]
  },
  {
   "cell_type": "code",
   "execution_count": null,
   "id": "3e5c86b1",
   "metadata": {},
   "outputs": [],
   "source": [
    "def accuracyAndF1_scores(y_pred, y_test):\n",
    "    accuracyScore = sklearn.metrics.accuracy_score(y_pred, y_test)\n",
    "    print('Accuracy Score of: ' + str(accuracyScore*100))\n",
    "    f1Score = sklearn.metrics.f1_score(y_test, y_pred)\n",
    "    print('F1 Score of: ' + str(f1Score))"
   ]
  },
  {
   "cell_type": "code",
   "execution_count": null,
   "id": "f97af17a",
   "metadata": {},
   "outputs": [],
   "source": [
    "accuracyAndF1_scores(y_pred, y_test)"
   ]
  },
  {
   "cell_type": "markdown",
   "id": "1aa27932",
   "metadata": {},
   "source": [
    "#### Raw Confusion Matrix"
   ]
  },
  {
   "cell_type": "code",
   "execution_count": 18,
   "id": "824cc6f4",
   "metadata": {},
   "outputs": [
    {
     "name": "stdout",
     "output_type": "stream",
     "text": [
      "[[397512      4]\n",
      " [   485      0]]\n"
     ]
    }
   ],
   "source": [
    "cm = sklearn.metrics.confusion_matrix(y_test, y_pred)\n",
    "print(cm)"
   ]
  },
  {
   "cell_type": "markdown",
   "id": "3b41bf4e",
   "metadata": {},
   "source": [
    "#### Function to Visualize Confusion Matrix: Creates a Heatmap Confusion Matrix to Improve Visability"
   ]
  },
  {
   "cell_type": "code",
   "execution_count": 7,
   "id": "0b72aa57",
   "metadata": {},
   "outputs": [],
   "source": [
    "def plot(y_test, y_pred): # Need to edit to include other plots (no need for heat map here) !!!\n",
    "    labels = unique_labels(y_test)\n",
    "    columns = [f'Predicted{label}' for label in labels]\n",
    "    index = [f'Predicted{label}' for label in labels]\n",
    "    table = pd.DataFrame(sklearn.metrics.confusion_matrix(y_test, y_pred), columns = columns, index = index)\n",
    "    return sns.heatmap(table, annot = True, fmt = 'd', cmap = 'viridis')"
   ]
  },
  {
   "cell_type": "code",
   "execution_count": 22,
   "id": "74fcc45a",
   "metadata": {},
   "outputs": [
    {
     "data": {
      "text/plain": [
       "<matplotlib.axes._subplots.AxesSubplot at 0x1cf995cdb38>"
      ]
     },
     "execution_count": 22,
     "metadata": {},
     "output_type": "execute_result"
    },
    {
     "data": {
      "image/png": "[encoded data removed]",
      "text/plain": [
       "<Figure size 432x288 with 2 Axes>"
      ]
     },
     "metadata": {
      "needs_background": "light"
     },
     "output_type": "display_data"
    }
   ],
   "source": [
    "plot(y_test, y_pred)"
   ]
  },
  {
   "cell_type": "markdown",
   "id": "835f0569",
   "metadata": {},
   "source": [
    "#### ROC Curve Function"
   ]
  },
  {
   "cell_type": "code",
   "execution_count": 50,
   "id": "fb7c730c",
   "metadata": {},
   "outputs": [],
   "source": [
    "#ROC CURVE\n",
    "br = \"\\n\" \n",
    "falseP, trueP, roc = sklearn.metrics.roc_curve(y_test,y_pred)#false positive, true positive, rocCurve\n",
    "# print(f\"ROC Curve Metrics:{br}True Postivies: {trueP}{br}False Positives: {falseP}{br}Bounds (I think):{roc}{br}\")\n",
    "#return confMx, falseP, trueP, rocCurve"
   ]
  },
  {
   "cell_type": "code",
   "execution_count": 51,
   "id": "97d21e80",
   "metadata": {},
   "outputs": [
    {
     "data": {
      "image/png": "[encoded data removed]",
      "text/plain": [
       "<Figure size 432x288 with 1 Axes>"
      ]
     },
     "metadata": {
      "needs_background": "light"
     },
     "output_type": "display_data"
    }
   ],
   "source": [
    "# Visualize the ROC curve using plotly express\n",
    "def rocGraph(y_test,y_predictions):\n",
    "    rocGraph.y_test = y_test \n",
    "    rocGraph.y_pred = y_predictions\n",
    "\n",
    "    \n",
    "    falseP, trueP, curve= sklearn.metrics.roc_curve(y_test,y_pred)#false positive, true positive, rocCurve\n",
    "   \n",
    "    plt.plot(falseP, trueP)\n",
    "    plt.ylabel(\"True Positive\")\n",
    "    plt.xlabel(\"False Positive\")\n",
    "    plt.show()\n",
    "\n",
    "\n",
    "rocGraph(y_test,y_pred)\n"
   ]
  },
  {
   "cell_type": "markdown",
   "id": "2c611dc8",
   "metadata": {},
   "source": [
    "### Analysis Using Different Models"
   ]
  },
  {
   "cell_type": "markdown",
   "id": "825ea6c3",
   "metadata": {},
   "source": [
    "### Linear Regression"
   ]
  },
  {
   "cell_type": "code",
   "execution_count": 52,
   "id": "65309e64",
   "metadata": {},
   "outputs": [],
   "source": [
    "clf2 = LogisticRegression(max_iter = 500)"
   ]
  },
  {
   "cell_type": "code",
   "execution_count": 53,
   "id": "0a493d37",
   "metadata": {},
   "outputs": [
    {
     "data": {
      "text/plain": [
       "LogisticRegression(C=1.0, class_weight=None, dual=False, fit_intercept=True,\n",
       "                   intercept_scaling=1, l1_ratio=None, max_iter=500,\n",
       "                   multi_class='auto', n_jobs=None, penalty='l2',\n",
       "                   random_state=None, solver='lbfgs', tol=0.0001, verbose=0,\n",
       "                   warm_start=False)"
      ]
     },
     "execution_count": 53,
     "metadata": {},
     "output_type": "execute_result"
    }
   ],
   "source": [
    "clf2.fit(x_train, y_train)"
   ]
  },
  {
   "cell_type": "code",
   "execution_count": 54,
   "id": "713242a4",
   "metadata": {},
   "outputs": [
    {
     "data": {
      "text/plain": [
       "0.9987738724274562"
      ]
     },
     "execution_count": 54,
     "metadata": {},
     "output_type": "execute_result"
    }
   ],
   "source": [
    "clf2.score(x_test, y_test)"
   ]
  },
  {
   "cell_type": "code",
   "execution_count": 55,
   "id": "10be3155",
   "metadata": {},
   "outputs": [],
   "source": [
    "y_pred2 = clf2.predict(x_test)"
   ]
  },
  {
   "cell_type": "code",
   "execution_count": 56,
   "id": "1bf8d774",
   "metadata": {},
   "outputs": [],
   "source": [
    "clfModels.append(clf2)"
   ]
  },
  {
   "cell_type": "markdown",
   "id": "6dc13237",
   "metadata": {},
   "source": [
    "### Decision Tree"
   ]
  },
  {
   "cell_type": "code",
   "execution_count": 57,
   "id": "40643353",
   "metadata": {},
   "outputs": [],
   "source": [
    "clf3 = DecisionTreeClassifier()"
   ]
  },
  {
   "cell_type": "code",
   "execution_count": 58,
   "id": "a5db8e0f",
   "metadata": {},
   "outputs": [
    {
     "data": {
      "text/plain": [
       "DecisionTreeClassifier(ccp_alpha=0.0, class_weight=None, criterion='gini',\n",
       "                       max_depth=None, max_features=None, max_leaf_nodes=None,\n",
       "                       min_impurity_decrease=0.0, min_impurity_split=None,\n",
       "                       min_samples_leaf=1, min_samples_split=2,\n",
       "                       min_weight_fraction_leaf=0.0, presort='deprecated',\n",
       "                       random_state=None, splitter='best')"
      ]
     },
     "execution_count": 58,
     "metadata": {},
     "output_type": "execute_result"
    }
   ],
   "source": [
    "clf3.fit(x_train, y_train)"
   ]
  },
  {
   "cell_type": "code",
   "execution_count": 59,
   "id": "d1f20a32",
   "metadata": {},
   "outputs": [
    {
     "data": {
      "text/plain": [
       "0.997736186592496"
      ]
     },
     "execution_count": 59,
     "metadata": {},
     "output_type": "execute_result"
    }
   ],
   "source": [
    "clf3.score(x_test, y_test)"
   ]
  },
  {
   "cell_type": "code",
   "execution_count": 60,
   "id": "d8cc6838",
   "metadata": {},
   "outputs": [],
   "source": [
    "y_pred3 = clf3.predict(x_test)"
   ]
  },
  {
   "cell_type": "code",
   "execution_count": 61,
   "id": "3742c0ec",
   "metadata": {},
   "outputs": [],
   "source": [
    "clfModels.append(clf3)"
   ]
  },
  {
   "cell_type": "markdown",
   "id": "043c26db",
   "metadata": {},
   "source": [
    "### Random Forest"
   ]
  },
  {
   "cell_type": "code",
   "execution_count": 75,
   "id": "a8adf444",
   "metadata": {},
   "outputs": [],
   "source": [
    "def randomforest(x_train, y_train, x_test, y_test):\n",
    "    clf4 = RandomForestClassifier(max_depth = 3) #, random_state = 444) #takes about 5 minutes to run\n",
    "    clf4.fit(x_train, y_train)\n",
    "    print(\"Random Forest model accuracy: \", 100 * clf4.score(x_test, y_test))\n",
    "    global y_pred4\n",
    "    y_pred4 = clf4.predict(x_test)\n",
    "#     plot(y_test, y_pred4)\n",
    "    return y_pred4\n",
    "    "
   ]
  },
  {
   "cell_type": "code",
   "execution_count": 76,
   "id": "fd0cd426",
   "metadata": {},
   "outputs": [
    {
     "name": "stdout",
     "output_type": "stream",
     "text": [
      "ramdom forest model accuracy:  99.87814100969595\n"
     ]
    }
   ],
   "source": [
    "randomforest(x_train, y_train, x_test, y_test)\n",
    "clfModels.append(randomforest)"
   ]
  },
  {
   "cell_type": "code",
   "execution_count": 77,
   "id": "224c1c77",
   "metadata": {},
   "outputs": [
    {
     "data": {
      "text/plain": [
       "<matplotlib.axes._subplots.AxesSubplot at 0x1cf9a440438>"
      ]
     },
     "execution_count": 77,
     "metadata": {},
     "output_type": "execute_result"
    },
    {
     "data": {
      "image/png": "[encoded data removed]",
      "text/plain": [
       "<Figure size 432x288 with 2 Axes>"
      ]
     },
     "metadata": {
      "needs_background": "light"
     },
     "output_type": "display_data"
    }
   ],
   "source": [
    "plot(y_test, y_pred4)"
   ]
  },
  {
   "cell_type": "code",
   "execution_count": null,
   "id": "8b031f80",
   "metadata": {},
   "outputs": [],
   "source": [
    "# clf4 = RandomForestClassifier(max_depth = 3)"
   ]
  },
  {
   "cell_type": "code",
   "execution_count": null,
   "id": "4c88062b",
   "metadata": {},
   "outputs": [],
   "source": [
    "# clf4.fit(x_train, y_train)"
   ]
  },
  {
   "cell_type": "code",
   "execution_count": null,
   "id": "7979be44",
   "metadata": {},
   "outputs": [],
   "source": [
    "# clf4.score(x_test, y_test)"
   ]
  },
  {
   "cell_type": "code",
   "execution_count": null,
   "id": "29cfe495",
   "metadata": {},
   "outputs": [],
   "source": [
    "# y_pred4 = clf4.predict(x_test)"
   ]
  },
  {
   "cell_type": "code",
   "execution_count": null,
   "id": "2628edb8",
   "metadata": {},
   "outputs": [],
   "source": [
    "# clfModels.append(clf4)"
   ]
  },
  {
   "cell_type": "markdown",
   "id": "232abcf2",
   "metadata": {},
   "source": [
    "## Comparison of Confusion Matrices"
   ]
  },
  {
   "cell_type": "markdown",
   "id": "8306edd1",
   "metadata": {},
   "source": [
    "### Linear Support Vector Classification"
   ]
  },
  {
   "cell_type": "code",
   "execution_count": 78,
   "id": "040a09d3",
   "metadata": {},
   "outputs": [
    {
     "data": {
      "text/plain": [
       "<matplotlib.axes._subplots.AxesSubplot at 0x1cf9a554748>"
      ]
     },
     "execution_count": 78,
     "metadata": {},
     "output_type": "execute_result"
    },
    {
     "data": {
      "image/png": "[encoded data removed]",
      "text/plain": [
       "<Figure size 432x288 with 2 Axes>"
      ]
     },
     "metadata": {
      "needs_background": "light"
     },
     "output_type": "display_data"
    }
   ],
   "source": [
    "plot(y_test, y_pred)  # Definitely need to edit the plot func."
   ]
  },
  {
   "cell_type": "markdown",
   "id": "692e41f8",
   "metadata": {},
   "source": [
    "### Logistic Regression Classifier"
   ]
  },
  {
   "cell_type": "code",
   "execution_count": 79,
   "id": "ba551e55",
   "metadata": {},
   "outputs": [
    {
     "data": {
      "text/plain": [
       "<matplotlib.axes._subplots.AxesSubplot at 0x1cf9a5d07f0>"
      ]
     },
     "execution_count": 79,
     "metadata": {},
     "output_type": "execute_result"
    },
    {
     "data": {
      "image/png": "[encoded data removed]",
      "text/plain": [
       "<Figure size 432x288 with 2 Axes>"
      ]
     },
     "metadata": {
      "needs_background": "light"
     },
     "output_type": "display_data"
    }
   ],
   "source": [
    "plot(y_test, y_pred2)"
   ]
  },
  {
   "cell_type": "markdown",
   "id": "e5ab8b83",
   "metadata": {},
   "source": [
    "### Decision Tree Classifier"
   ]
  },
  {
   "cell_type": "code",
   "execution_count": 80,
   "id": "f2b5b79b",
   "metadata": {},
   "outputs": [
    {
     "data": {
      "text/plain": [
       "<matplotlib.axes._subplots.AxesSubplot at 0x1cf9a63f9e8>"
      ]
     },
     "execution_count": 80,
     "metadata": {},
     "output_type": "execute_result"
    },
    {
     "data": {
      "image/png": "[encoded data removed]",
      "text/plain": [
       "<Figure size 432x288 with 2 Axes>"
      ]
     },
     "metadata": {
      "needs_background": "light"
     },
     "output_type": "display_data"
    }
   ],
   "source": [
    "plot(y_test, y_pred3)"
   ]
  },
  {
   "cell_type": "markdown",
   "id": "6aef7e26",
   "metadata": {},
   "source": [
    "### Random Forest Classifier"
   ]
  },
  {
   "cell_type": "code",
   "execution_count": 70,
   "id": "3b63ae98",
   "metadata": {},
   "outputs": [
    {
     "ename": "NameError",
     "evalue": "name 'y_pred4' is not defined",
     "output_type": "error",
     "traceback": [
      "\u001b[1;31m---------------------------------------------------------------------------\u001b[0m",
      "\u001b[1;31mNameError\u001b[0m                                 Traceback (most recent call last)",
      "\u001b[1;32m<ipython-input-70-20261f776ae1>\u001b[0m in \u001b[0;36m<module>\u001b[1;34m\u001b[0m\n\u001b[1;32m----> 1\u001b[1;33m \u001b[0mplot\u001b[0m\u001b[1;33m(\u001b[0m\u001b[0my_test\u001b[0m\u001b[1;33m,\u001b[0m \u001b[0my_pred4\u001b[0m\u001b[1;33m)\u001b[0m\u001b[1;33m\u001b[0m\u001b[1;33m\u001b[0m\u001b[0m\n\u001b[0m",
      "\u001b[1;31mNameError\u001b[0m: name 'y_pred4' is not defined"
     ]
    }
   ],
   "source": [
    "# plot(y_test, y_pred4)"
   ]
  },
  {
   "cell_type": "markdown",
   "id": "e4a9d852",
   "metadata": {},
   "source": [
    "## ROC Curve Comparison"
   ]
  },
  {
   "cell_type": "code",
   "execution_count": 3,
   "id": "59bfc02a",
   "metadata": {},
   "outputs": [],
   "source": [
    "# roc_curve(clfModels)"
   ]
  },
  {
   "cell_type": "code",
   "execution_count": null,
   "id": "92814a2a",
   "metadata": {},
   "outputs": [],
   "source": []
  },
  {
   "cell_type": "code",
   "execution_count": 17,
   "id": "b68a3640",
   "metadata": {},
   "outputs": [],
   "source": [
    "import pandas as pd\n",
    "import matplotlib.pyplot as plt\n",
    "import numpy as np\n",
    "from sklearn.model_selection import train_test_split\n",
    "from sklearn import svm\n",
    "from sklearn.svm import LinearSVC\n",
    "from sklearn.decomposition import PCA\n",
    "import imblearn.over_sampling\n",
    "import collections\n",
    "from collections import Counter\n",
    "import imblearn\n",
    "from imblearn.over_sampling import RandomOverSampler\n",
    "import seaborn as sns\n",
    "\n",
    "from imblearn.over_sampling import SMOTE \n",
    "from imblearn.over_sampling import ADASYN\n",
    "from imblearn.combine import SMOTETomek\n",
    "from imblearn.combine import SMOTEENN"
   ]
  },
  {
   "cell_type": "markdown",
   "id": "d753142c",
   "metadata": {},
   "source": [
    "## SMOTE and imblearn Implementations\n",
    "# Week 2 stuff"
   ]
  },
  {
   "cell_type": "code",
   "execution_count": 16,
   "id": "e9ae3aae",
   "metadata": {},
   "outputs": [
    {
     "name": "stdout",
     "output_type": "stream",
     "text": [
      "Windows-10-10.0.19041-SP0\n",
      "Python 3.7.3 (default, Mar 27 2019, 17:13:21) [MSC v.1915 64 bit (AMD64)]\n",
      "NumPy 1.15.4\n",
      "SciPy 1.1.0\n",
      "Scikit-Learn 0.19.2\n"
     ]
    }
   ],
   "source": [
    "import platform; print(platform.platform())\n",
    "import sys; print(\"Python\", sys.version)\n",
    "import numpy; print(\"NumPy\", numpy.__version__)\n",
    "import scipy; print(\"SciPy\", scipy.__version__)\n",
    "import sklearn; print(\"Scikit-Learn\", sklearn.__version__)"
   ]
  },
  {
   "cell_type": "code",
   "execution_count": 18,
   "id": "0e5633eb",
   "metadata": {
    "scrolled": true
   },
   "outputs": [
    {
     "ename": "NameError",
     "evalue": "name 'decomposition' is not defined",
     "output_type": "error",
     "traceback": [
      "\u001b[1;31m---------------------------------------------------------------------------\u001b[0m",
      "\u001b[1;31mNameError\u001b[0m                                 Traceback (most recent call last)",
      "\u001b[1;32m<ipython-input-18-72b538e5cc41>\u001b[0m in \u001b[0;36m<module>\u001b[1;34m\u001b[0m\n\u001b[0;32m      2\u001b[0m \u001b[1;31m#fit and transform using SMOTE\u001b[0m\u001b[1;33m\u001b[0m\u001b[1;33m\u001b[0m\u001b[1;33m\u001b[0m\u001b[0m\n\u001b[0;32m      3\u001b[0m \u001b[0mx_res\u001b[0m\u001b[1;33m,\u001b[0m \u001b[0my_res\u001b[0m \u001b[1;33m=\u001b[0m \u001b[0mSMOTE\u001b[0m\u001b[1;33m(\u001b[0m\u001b[1;33m)\u001b[0m\u001b[1;33m.\u001b[0m\u001b[0mfit_sample\u001b[0m\u001b[1;33m(\u001b[0m\u001b[0mx_train\u001b[0m\u001b[1;33m,\u001b[0m \u001b[0my_train\u001b[0m\u001b[1;33m)\u001b[0m\u001b[1;33m\u001b[0m\u001b[1;33m\u001b[0m\u001b[0m\n\u001b[1;32m----> 4\u001b[1;33m \u001b[0mpca\u001b[0m \u001b[1;33m=\u001b[0m \u001b[0mdecomposition\u001b[0m\u001b[1;33m.\u001b[0m\u001b[0mPCA\u001b[0m\u001b[1;33m(\u001b[0m\u001b[0mn_components\u001b[0m\u001b[1;33m=\u001b[0m\u001b[1;36m2\u001b[0m\u001b[1;33m)\u001b[0m\u001b[1;33m\u001b[0m\u001b[1;33m\u001b[0m\u001b[0m\n\u001b[0m\u001b[0;32m      5\u001b[0m \u001b[0mcompFit\u001b[0m \u001b[1;33m=\u001b[0m \u001b[0mpca\u001b[0m\u001b[1;33m.\u001b[0m\u001b[0mfit\u001b[0m\u001b[1;33m(\u001b[0m\u001b[0mx_res\u001b[0m\u001b[1;33m,\u001b[0m\u001b[0my_res\u001b[0m\u001b[1;33m)\u001b[0m\u001b[1;33m\u001b[0m\u001b[1;33m\u001b[0m\u001b[0m\n\u001b[0;32m      6\u001b[0m \u001b[0mpcaTrans\u001b[0m \u001b[1;33m=\u001b[0m \u001b[0mpca\u001b[0m\u001b[1;33m.\u001b[0m\u001b[0mtransform\u001b[0m\u001b[1;33m(\u001b[0m\u001b[0mx_res\u001b[0m\u001b[1;33m)\u001b[0m\u001b[1;33m\u001b[0m\u001b[1;33m\u001b[0m\u001b[0m\n",
      "\u001b[1;31mNameError\u001b[0m: name 'decomposition' is not defined"
     ]
    }
   ],
   "source": [
    "from imblearn.over_sampling import SMOTE\n",
    "#fit and transform using SMOTE\n",
    "x_res, y_res = SMOTE().fit_sample(x_train, y_train) \n",
    "pca = decomposition.PCA(n_components=2)\n",
    "compFit = pca.fit(x_res,y_res)\n",
    "pcaTrans = pca.transform(x_res)\n"
   ]
  },
  {
   "cell_type": "code",
   "execution_count": null,
   "id": "8068e1d9",
   "metadata": {},
   "outputs": [],
   "source": [
    "\n",
    "pca = decomposition.PCA(n_components=2)\n",
    "compFit = pca.fit(x_res,y_res)\n",
    "pcaTrans = pca.transform(x_res)\n",
    "\n",
    "SMOTEdf = pd.DataFrame(pcaTrans, columns=['principal component 1', 'principal component 2'])\n",
    "SMOTEdf[\"target\"] = y_res\n",
    "\n",
    "\n",
    "fig = plt.figure(figsize = (10,10) )\n",
    "ax = fig.add_subplot(1,1,1) \n",
    "ax.set_xlabel('Comp. 1')\n",
    "ax.set_ylabel('Comp. 2')\n",
    "\n",
    "targets = y_res\n",
    "colors = ['#96d4ca', '#837b97']\n",
    "try:\n",
    "    for i in range(len(targets)):\n",
    "        transaction = SMOTEdf[\"target\"] == i\n",
    "        ax.scatter(SMOTEdf.loc[transaction, 'principal component 1'], \n",
    "                SMOTEdf.loc[transaction, 'principal component 2'],\n",
    "                c = colors[i], #the colors will cause an exception\n",
    "                s = 5)\n",
    "except Exception: \n",
    "    pass\n",
    "\n",
    "ax.legend(targets)\n",
    "ax.grid()"
   ]
  },
  {
   "cell_type": "code",
   "execution_count": null,
   "id": "8b24c9de",
   "metadata": {},
   "outputs": [],
   "source": []
  },
  {
   "cell_type": "code",
   "execution_count": null,
   "id": "655c4be8",
   "metadata": {},
   "outputs": [],
   "source": []
  },
  {
   "cell_type": "code",
   "execution_count": null,
   "id": "87cd10a8",
   "metadata": {},
   "outputs": [],
   "source": []
  },
  {
   "cell_type": "code",
   "execution_count": null,
   "id": "eda85b01",
   "metadata": {},
   "outputs": [],
   "source": []
  },
  {
   "cell_type": "code",
   "execution_count": null,
   "id": "72d65117",
   "metadata": {},
   "outputs": [],
   "source": []
  },
  {
   "cell_type": "code",
   "execution_count": null,
   "id": "7ab065a1",
   "metadata": {},
   "outputs": [],
   "source": []
  }
 ],
 "metadata": {
  "kernelspec": {
   "display_name": "Python 3",
   "language": "python",
   "name": "python3"
  },
  "language_info": {
   "codemirror_mode": {
    "name": "ipython",
    "version": 3
   },
   "file_extension": ".py",
   "mimetype": "text/x-python",
   "name": "python",
   "nbconvert_exporter": "python",
   "pygments_lexer": "ipython3",
   "version": "3.7.3"
  }
 },
 "nbformat": 4,
 "nbformat_minor": 5
}
