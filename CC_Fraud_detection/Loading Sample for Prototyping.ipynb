{
 "cells": [
  {
   "cell_type": "code",
   "execution_count": 1,
   "id": "b48db806",
   "metadata": {},
   "outputs": [],
   "source": [
    "import pandas as pd\n",
    "from sklearn.model_selection import train_test_split\n",
    "from sklearn import svm"
   ]
  },
  {
   "cell_type": "markdown",
   "id": "64f589e5",
   "metadata": {},
   "source": [
    "### Load data and print columns."
   ]
  },
  {
   "cell_type": "code",
   "execution_count": 7,
   "id": "bc4df98e",
   "metadata": {},
   "outputs": [],
   "source": [
    "df = pd.read_csv('sample-1-25.csv')"
   ]
  },
  {
   "cell_type": "code",
   "execution_count": 8,
   "id": "dbd0fe96",
   "metadata": {},
   "outputs": [
    {
     "data": {
      "text/html": [
       "<div>\n",
       "<style scoped>\n",
       "    .dataframe tbody tr th:only-of-type {\n",
       "        vertical-align: middle;\n",
       "    }\n",
       "\n",
       "    .dataframe tbody tr th {\n",
       "        vertical-align: top;\n",
       "    }\n",
       "\n",
       "    .dataframe thead th {\n",
       "        text-align: right;\n",
       "    }\n",
       "</style>\n",
       "<table border=\"1\" class=\"dataframe\">\n",
       "  <thead>\n",
       "    <tr style=\"text-align: right;\">\n",
       "      <th></th>\n",
       "      <th>FRD_IND</th>\n",
       "      <th>APPRD_AUTHZN_CNT</th>\n",
       "      <th>AVG_DLY_AUTHZN_AMT</th>\n",
       "      <th>MRCH_CATG_CD</th>\n",
       "      <th>POS_ENTRY_MTHD_CD</th>\n",
       "      <th>RCURG_AUTHZN_IND</th>\n",
       "      <th>DISTANCE_FROM_HOME</th>\n",
       "      <th>ACCT_CURR_BAL</th>\n",
       "      <th>AUTHZN_AMT</th>\n",
       "      <th>AUTHZN_OUTSTD_AMT</th>\n",
       "      <th>PLSTC_ISU_DUR</th>\n",
       "    </tr>\n",
       "  </thead>\n",
       "  <tbody>\n",
       "    <tr>\n",
       "      <th>0</th>\n",
       "      <td>0</td>\n",
       "      <td>3</td>\n",
       "      <td>7</td>\n",
       "      <td>5812</td>\n",
       "      <td>90</td>\n",
       "      <td>0</td>\n",
       "      <td>0.000000</td>\n",
       "      <td>2498.21</td>\n",
       "      <td>15.52</td>\n",
       "      <td>94.28</td>\n",
       "      <td>805</td>\n",
       "    </tr>\n",
       "    <tr>\n",
       "      <th>1</th>\n",
       "      <td>0</td>\n",
       "      <td>1</td>\n",
       "      <td>6</td>\n",
       "      <td>5541</td>\n",
       "      <td>90</td>\n",
       "      <td>0</td>\n",
       "      <td>0.000000</td>\n",
       "      <td>88.88</td>\n",
       "      <td>46.56</td>\n",
       "      <td>56.31</td>\n",
       "      <td>68</td>\n",
       "    </tr>\n",
       "    <tr>\n",
       "      <th>2</th>\n",
       "      <td>0</td>\n",
       "      <td>4</td>\n",
       "      <td>0</td>\n",
       "      <td>5965</td>\n",
       "      <td>81</td>\n",
       "      <td>0</td>\n",
       "      <td>358.850300</td>\n",
       "      <td>1934.36</td>\n",
       "      <td>16.34</td>\n",
       "      <td>927.13</td>\n",
       "      <td>190</td>\n",
       "    </tr>\n",
       "    <tr>\n",
       "      <th>3</th>\n",
       "      <td>0</td>\n",
       "      <td>0</td>\n",
       "      <td>3</td>\n",
       "      <td>5542</td>\n",
       "      <td>90</td>\n",
       "      <td>0</td>\n",
       "      <td>4.293625</td>\n",
       "      <td>916.04</td>\n",
       "      <td>1.00</td>\n",
       "      <td>0.00</td>\n",
       "      <td>217</td>\n",
       "    </tr>\n",
       "    <tr>\n",
       "      <th>4</th>\n",
       "      <td>0</td>\n",
       "      <td>1</td>\n",
       "      <td>2</td>\n",
       "      <td>5814</td>\n",
       "      <td>90</td>\n",
       "      <td>0</td>\n",
       "      <td>509.830350</td>\n",
       "      <td>166.62</td>\n",
       "      <td>10.66</td>\n",
       "      <td>10.66</td>\n",
       "      <td>110</td>\n",
       "    </tr>\n",
       "  </tbody>\n",
       "</table>\n",
       "</div>"
      ],
      "text/plain": [
       "   FRD_IND  APPRD_AUTHZN_CNT  AVG_DLY_AUTHZN_AMT  MRCH_CATG_CD  \\\n",
       "0        0                 3                   7          5812   \n",
       "1        0                 1                   6          5541   \n",
       "2        0                 4                   0          5965   \n",
       "3        0                 0                   3          5542   \n",
       "4        0                 1                   2          5814   \n",
       "\n",
       "   POS_ENTRY_MTHD_CD  RCURG_AUTHZN_IND  DISTANCE_FROM_HOME  ACCT_CURR_BAL  \\\n",
       "0                 90                 0            0.000000        2498.21   \n",
       "1                 90                 0            0.000000          88.88   \n",
       "2                 81                 0          358.850300        1934.36   \n",
       "3                 90                 0            4.293625         916.04   \n",
       "4                 90                 0          509.830350         166.62   \n",
       "\n",
       "   AUTHZN_AMT  AUTHZN_OUTSTD_AMT  PLSTC_ISU_DUR  \n",
       "0       15.52              94.28            805  \n",
       "1       46.56              56.31             68  \n",
       "2       16.34             927.13            190  \n",
       "3        1.00               0.00            217  \n",
       "4       10.66              10.66            110  "
      ]
     },
     "execution_count": 8,
     "metadata": {},
     "output_type": "execute_result"
    }
   ],
   "source": [
    "df.head()"
   ]
  },
  {
   "cell_type": "code",
   "execution_count": 10,
   "id": "7da778fa",
   "metadata": {},
   "outputs": [
    {
     "data": {
      "text/plain": [
       "Index(['FRD_IND', 'APPRD_AUTHZN_CNT', 'AVG_DLY_AUTHZN_AMT', 'MRCH_CATG_CD',\n",
       "       'POS_ENTRY_MTHD_CD', 'RCURG_AUTHZN_IND', 'DISTANCE_FROM_HOME',\n",
       "       'ACCT_CURR_BAL', 'AUTHZN_AMT', 'AUTHZN_OUTSTD_AMT', 'PLSTC_ISU_DUR'],\n",
       "      dtype='object')"
      ]
     },
     "execution_count": 10,
     "metadata": {},
     "output_type": "execute_result"
    }
   ],
   "source": [
    "df.columns"
   ]
  },
  {
   "cell_type": "markdown",
   "id": "4c72a2d6",
   "metadata": {},
   "source": [
    "### Training/testing split."
   ]
  },
  {
   "cell_type": "code",
   "execution_count": 11,
   "id": "5cbfc508",
   "metadata": {},
   "outputs": [],
   "source": [
    "y_col, x_col = df.columns[0], df.columns[1::]"
   ]
  },
  {
   "cell_type": "code",
   "execution_count": 20,
   "id": "7ce0abf4",
   "metadata": {},
   "outputs": [],
   "source": [
    "x, xt, y, yt = train_test_split(df[x_col], df[y_col], test_size=0.20, random_state=444)"
   ]
  },
  {
   "cell_type": "code",
   "execution_count": 21,
   "id": "53bd8c8b",
   "metadata": {},
   "outputs": [
    {
     "data": {
      "text/html": [
       "<div>\n",
       "<style scoped>\n",
       "    .dataframe tbody tr th:only-of-type {\n",
       "        vertical-align: middle;\n",
       "    }\n",
       "\n",
       "    .dataframe tbody tr th {\n",
       "        vertical-align: top;\n",
       "    }\n",
       "\n",
       "    .dataframe thead th {\n",
       "        text-align: right;\n",
       "    }\n",
       "</style>\n",
       "<table border=\"1\" class=\"dataframe\">\n",
       "  <thead>\n",
       "    <tr style=\"text-align: right;\">\n",
       "      <th></th>\n",
       "      <th>APPRD_AUTHZN_CNT</th>\n",
       "      <th>AVG_DLY_AUTHZN_AMT</th>\n",
       "      <th>MRCH_CATG_CD</th>\n",
       "      <th>POS_ENTRY_MTHD_CD</th>\n",
       "      <th>RCURG_AUTHZN_IND</th>\n",
       "      <th>DISTANCE_FROM_HOME</th>\n",
       "      <th>ACCT_CURR_BAL</th>\n",
       "      <th>AUTHZN_AMT</th>\n",
       "      <th>AUTHZN_OUTSTD_AMT</th>\n",
       "      <th>PLSTC_ISU_DUR</th>\n",
       "    </tr>\n",
       "  </thead>\n",
       "  <tbody>\n",
       "    <tr>\n",
       "      <th>695527</th>\n",
       "      <td>0</td>\n",
       "      <td>0</td>\n",
       "      <td>3063</td>\n",
       "      <td>1</td>\n",
       "      <td>0</td>\n",
       "      <td>346.780330</td>\n",
       "      <td>0.00</td>\n",
       "      <td>0.00</td>\n",
       "      <td>0.00</td>\n",
       "      <td>123</td>\n",
       "    </tr>\n",
       "    <tr>\n",
       "      <th>110525</th>\n",
       "      <td>3</td>\n",
       "      <td>6</td>\n",
       "      <td>6011</td>\n",
       "      <td>2</td>\n",
       "      <td>0</td>\n",
       "      <td>17.270464</td>\n",
       "      <td>232.82</td>\n",
       "      <td>63.00</td>\n",
       "      <td>317.97</td>\n",
       "      <td>642</td>\n",
       "    </tr>\n",
       "    <tr>\n",
       "      <th>1910345</th>\n",
       "      <td>1</td>\n",
       "      <td>1</td>\n",
       "      <td>5812</td>\n",
       "      <td>90</td>\n",
       "      <td>0</td>\n",
       "      <td>15.674769</td>\n",
       "      <td>282.81</td>\n",
       "      <td>4.33</td>\n",
       "      <td>4.33</td>\n",
       "      <td>284</td>\n",
       "    </tr>\n",
       "    <tr>\n",
       "      <th>1052733</th>\n",
       "      <td>1</td>\n",
       "      <td>2</td>\n",
       "      <td>5812</td>\n",
       "      <td>90</td>\n",
       "      <td>0</td>\n",
       "      <td>22.744324</td>\n",
       "      <td>411.73</td>\n",
       "      <td>5.02</td>\n",
       "      <td>5.02</td>\n",
       "      <td>464</td>\n",
       "    </tr>\n",
       "    <tr>\n",
       "      <th>820788</th>\n",
       "      <td>1</td>\n",
       "      <td>3</td>\n",
       "      <td>5812</td>\n",
       "      <td>90</td>\n",
       "      <td>0</td>\n",
       "      <td>53.759247</td>\n",
       "      <td>3664.23</td>\n",
       "      <td>34.12</td>\n",
       "      <td>35.12</td>\n",
       "      <td>397</td>\n",
       "    </tr>\n",
       "  </tbody>\n",
       "</table>\n",
       "</div>"
      ],
      "text/plain": [
       "         APPRD_AUTHZN_CNT  AVG_DLY_AUTHZN_AMT  MRCH_CATG_CD  \\\n",
       "695527                  0                   0          3063   \n",
       "110525                  3                   6          6011   \n",
       "1910345                 1                   1          5812   \n",
       "1052733                 1                   2          5812   \n",
       "820788                  1                   3          5812   \n",
       "\n",
       "         POS_ENTRY_MTHD_CD  RCURG_AUTHZN_IND  DISTANCE_FROM_HOME  \\\n",
       "695527                   1                 0          346.780330   \n",
       "110525                   2                 0           17.270464   \n",
       "1910345                 90                 0           15.674769   \n",
       "1052733                 90                 0           22.744324   \n",
       "820788                  90                 0           53.759247   \n",
       "\n",
       "         ACCT_CURR_BAL  AUTHZN_AMT  AUTHZN_OUTSTD_AMT  PLSTC_ISU_DUR  \n",
       "695527            0.00        0.00               0.00            123  \n",
       "110525          232.82       63.00             317.97            642  \n",
       "1910345         282.81        4.33               4.33            284  \n",
       "1052733         411.73        5.02               5.02            464  \n",
       "820788         3664.23       34.12              35.12            397  "
      ]
     },
     "execution_count": 21,
     "metadata": {},
     "output_type": "execute_result"
    }
   ],
   "source": [
    "x.head()"
   ]
  },
  {
   "cell_type": "markdown",
   "id": "4c5efba2",
   "metadata": {},
   "source": [
    "### Basic model."
   ]
  },
  {
   "cell_type": "code",
   "execution_count": 30,
   "id": "4c419872",
   "metadata": {},
   "outputs": [],
   "source": [
    "clf = svm.LinearSVC(max_iter=500)"
   ]
  },
  {
   "cell_type": "code",
   "execution_count": 31,
   "id": "a85c4fe4",
   "metadata": {},
   "outputs": [
    {
     "name": "stderr",
     "output_type": "stream",
     "text": [
      "/Users/tyler/miniforge3/envs/tf_ml/lib/python3.8/site-packages/sklearn/svm/_base.py:985: ConvergenceWarning: Liblinear failed to converge, increase the number of iterations.\n",
      "  warnings.warn(\"Liblinear failed to converge, increase \"\n"
     ]
    },
    {
     "data": {
      "text/plain": [
       "LinearSVC(max_iter=500)"
      ]
     },
     "execution_count": 31,
     "metadata": {},
     "output_type": "execute_result"
    }
   ],
   "source": [
    "clf.fit(x, y)"
   ]
  },
  {
   "cell_type": "code",
   "execution_count": 32,
   "id": "18459f65",
   "metadata": {},
   "outputs": [
    {
     "data": {
      "text/plain": [
       "0.9987788975404585"
      ]
     },
     "execution_count": 32,
     "metadata": {},
     "output_type": "execute_result"
    }
   ],
   "source": [
    "clf.score(xt, yt)"
   ]
  },
  {
   "cell_type": "markdown",
   "id": "82a999b8",
   "metadata": {},
   "source": [
    "## To Do Week of 11/2:\n",
    "\n",
    "#### Everyone\n",
    "- get added to github, download locally\n",
    "- push results\n",
    "\n",
    "#### Liam and Shreyas\n",
    "- create function that returns: accuracy, F1, recall, and confusion table\n",
    "- create function to visualize confusion matrix\n",
    "- create function to visualize ROC curve\n",
    "\n",
    "(Rationale: We want to set up test and evaluation module before setting up retraining module)\n",
    "\n",
    "#### Nicky and Abhay\n",
    "- create function that \"balances\" data, use SMOTE to start https://github.com/scikit-learn-contrib/imbalanced-learn\n",
    "\n",
    "(Rationale: Generative methods for addressing imbalanced data can be used by adversary; probably can be naive or baseline comparison method for more advanced evasion techniques)\n",
    "\n",
    "### Comments: Use open-source as much as possible! E.g. use sklearn.metrics.roc_curve don't mess with implementing your own."
   ]
  }
 ],
 "metadata": {
  "kernelspec": {
   "display_name": "Python 3 (ipykernel)",
   "language": "python",
   "name": "python3"
  },
  "language_info": {
   "codemirror_mode": {
    "name": "ipython",
    "version": 3
   },
   "file_extension": ".py",
   "mimetype": "text/x-python",
   "name": "python",
   "nbconvert_exporter": "python",
   "pygments_lexer": "ipython3",
   "version": "3.8.10"
  }
 },
 "nbformat": 4,
 "nbformat_minor": 5
}
