{
 "cells": [
  {
   "cell_type": "markdown",
   "id": "d9116f61",
   "metadata": {},
   "source": [
    "# Creating Confusion Matrix and ROC Curve"
   ]
  },
  {
   "cell_type": "code",
   "execution_count": 52,
   "id": "d76f900e",
   "metadata": {},
   "outputs": [],
   "source": [
    "import numpy as np\n",
    "import pandas as pd\n",
    "import seaborn as sns\n",
    "\n",
    "import matplotlib.pyplot as plt\n",
    "\n",
    "import sklearn.metrics\n",
    "from sklearn.model_selection import train_test_split\n",
    "from sklearn import svm\n",
    "from sklearn.utils.multiclass import unique_labels\n",
    "from sklearn.linear_model import LogisticRegression\n",
    "from sklearn.tree import DecisionTreeClassifier\n",
    "from sklearn.ensemble import RandomForestClassifier"
   ]
  },
  {
   "cell_type": "code",
   "execution_count": 53,
   "id": "07b8a1c5",
   "metadata": {},
   "outputs": [
    {
     "data": {
      "text/html": [
       "<div>\n",
       "<style scoped>\n",
       "    .dataframe tbody tr th:only-of-type {\n",
       "        vertical-align: middle;\n",
       "    }\n",
       "\n",
       "    .dataframe tbody tr th {\n",
       "        vertical-align: top;\n",
       "    }\n",
       "\n",
       "    .dataframe thead th {\n",
       "        text-align: right;\n",
       "    }\n",
       "</style>\n",
       "<table border=\"1\" class=\"dataframe\">\n",
       "  <thead>\n",
       "    <tr style=\"text-align: right;\">\n",
       "      <th></th>\n",
       "      <th>FRD_IND</th>\n",
       "      <th>APPRD_AUTHZN_CNT</th>\n",
       "      <th>AVG_DLY_AUTHZN_AMT</th>\n",
       "      <th>MRCH_CATG_CD</th>\n",
       "      <th>POS_ENTRY_MTHD_CD</th>\n",
       "      <th>RCURG_AUTHZN_IND</th>\n",
       "      <th>DISTANCE_FROM_HOME</th>\n",
       "      <th>ACCT_CURR_BAL</th>\n",
       "      <th>AUTHZN_AMT</th>\n",
       "      <th>AUTHZN_OUTSTD_AMT</th>\n",
       "      <th>PLSTC_ISU_DUR</th>\n",
       "    </tr>\n",
       "  </thead>\n",
       "  <tbody>\n",
       "    <tr>\n",
       "      <th>0</th>\n",
       "      <td>0</td>\n",
       "      <td>3</td>\n",
       "      <td>7</td>\n",
       "      <td>5812</td>\n",
       "      <td>90</td>\n",
       "      <td>0</td>\n",
       "      <td>0.000000</td>\n",
       "      <td>2498.21</td>\n",
       "      <td>15.52</td>\n",
       "      <td>94.28</td>\n",
       "      <td>805</td>\n",
       "    </tr>\n",
       "    <tr>\n",
       "      <th>1</th>\n",
       "      <td>0</td>\n",
       "      <td>1</td>\n",
       "      <td>6</td>\n",
       "      <td>5541</td>\n",
       "      <td>90</td>\n",
       "      <td>0</td>\n",
       "      <td>0.000000</td>\n",
       "      <td>88.88</td>\n",
       "      <td>46.56</td>\n",
       "      <td>56.31</td>\n",
       "      <td>68</td>\n",
       "    </tr>\n",
       "    <tr>\n",
       "      <th>2</th>\n",
       "      <td>0</td>\n",
       "      <td>4</td>\n",
       "      <td>0</td>\n",
       "      <td>5965</td>\n",
       "      <td>81</td>\n",
       "      <td>0</td>\n",
       "      <td>358.850300</td>\n",
       "      <td>1934.36</td>\n",
       "      <td>16.34</td>\n",
       "      <td>927.13</td>\n",
       "      <td>190</td>\n",
       "    </tr>\n",
       "    <tr>\n",
       "      <th>3</th>\n",
       "      <td>0</td>\n",
       "      <td>0</td>\n",
       "      <td>3</td>\n",
       "      <td>5542</td>\n",
       "      <td>90</td>\n",
       "      <td>0</td>\n",
       "      <td>4.293625</td>\n",
       "      <td>916.04</td>\n",
       "      <td>1.00</td>\n",
       "      <td>0.00</td>\n",
       "      <td>217</td>\n",
       "    </tr>\n",
       "    <tr>\n",
       "      <th>4</th>\n",
       "      <td>0</td>\n",
       "      <td>1</td>\n",
       "      <td>2</td>\n",
       "      <td>5814</td>\n",
       "      <td>90</td>\n",
       "      <td>0</td>\n",
       "      <td>509.830350</td>\n",
       "      <td>166.62</td>\n",
       "      <td>10.66</td>\n",
       "      <td>10.66</td>\n",
       "      <td>110</td>\n",
       "    </tr>\n",
       "  </tbody>\n",
       "</table>\n",
       "</div>"
      ],
      "text/plain": [
       "   FRD_IND  APPRD_AUTHZN_CNT  AVG_DLY_AUTHZN_AMT  MRCH_CATG_CD  \\\n",
       "0        0                 3                   7          5812   \n",
       "1        0                 1                   6          5541   \n",
       "2        0                 4                   0          5965   \n",
       "3        0                 0                   3          5542   \n",
       "4        0                 1                   2          5814   \n",
       "\n",
       "   POS_ENTRY_MTHD_CD  RCURG_AUTHZN_IND  DISTANCE_FROM_HOME  ACCT_CURR_BAL  \\\n",
       "0                 90                 0            0.000000        2498.21   \n",
       "1                 90                 0            0.000000          88.88   \n",
       "2                 81                 0          358.850300        1934.36   \n",
       "3                 90                 0            4.293625         916.04   \n",
       "4                 90                 0          509.830350         166.62   \n",
       "\n",
       "   AUTHZN_AMT  AUTHZN_OUTSTD_AMT  PLSTC_ISU_DUR  \n",
       "0       15.52              94.28            805  \n",
       "1       46.56              56.31             68  \n",
       "2       16.34             927.13            190  \n",
       "3        1.00               0.00            217  \n",
       "4       10.66              10.66            110  "
      ]
     },
     "execution_count": 53,
     "metadata": {},
     "output_type": "execute_result"
    }
   ],
   "source": [
    "#George Code below\n",
    "df= pd.read_csv('sample.csv')\n",
    "df.dropna()\n",
    "df.head()"
   ]
  },
  {
   "cell_type": "code",
   "execution_count": 3,
   "id": "93840388",
   "metadata": {},
   "outputs": [
    {
     "data": {
      "text/plain": [
       "Index(['FRD_IND', 'APPRD_AUTHZN_CNT', 'AVG_DLY_AUTHZN_AMT', 'MRCH_CATG_CD',\n",
       "       'POS_ENTRY_MTHD_CD', 'RCURG_AUTHZN_IND', 'DISTANCE_FROM_HOME',\n",
       "       'ACCT_CURR_BAL', 'AUTHZN_AMT', 'AUTHZN_OUTSTD_AMT', 'PLSTC_ISU_DUR'],\n",
       "      dtype='object')"
      ]
     },
     "execution_count": 3,
     "metadata": {},
     "output_type": "execute_result"
    }
   ],
   "source": [
    "df.columns"
   ]
  },
  {
   "cell_type": "markdown",
   "id": "d0b30d57",
   "metadata": {},
   "source": [
    "### Training Testing Split"
   ]
  },
  {
   "cell_type": "code",
   "execution_count": 4,
   "id": "fde57f37",
   "metadata": {},
   "outputs": [],
   "source": [
    "y_col, x_col = df.columns[0], df.columns[1::]\n",
    "x_train, x_test, y_train, y_test = train_test_split(df[x_col], df[y_col], test_size = 0.20, random_state = 444)\n",
    "\n",
    "clf = svm.LinearSVC(max_iter = 500)"
   ]
  },
  {
   "cell_type": "code",
   "execution_count": 5,
   "id": "1bb3ab89",
   "metadata": {},
   "outputs": [
    {
     "data": {
      "text/html": [
       "<div>\n",
       "<style scoped>\n",
       "    .dataframe tbody tr th:only-of-type {\n",
       "        vertical-align: middle;\n",
       "    }\n",
       "\n",
       "    .dataframe tbody tr th {\n",
       "        vertical-align: top;\n",
       "    }\n",
       "\n",
       "    .dataframe thead th {\n",
       "        text-align: right;\n",
       "    }\n",
       "</style>\n",
       "<table border=\"1\" class=\"dataframe\">\n",
       "  <thead>\n",
       "    <tr style=\"text-align: right;\">\n",
       "      <th></th>\n",
       "      <th>APPRD_AUTHZN_CNT</th>\n",
       "      <th>AVG_DLY_AUTHZN_AMT</th>\n",
       "      <th>MRCH_CATG_CD</th>\n",
       "      <th>POS_ENTRY_MTHD_CD</th>\n",
       "      <th>RCURG_AUTHZN_IND</th>\n",
       "      <th>DISTANCE_FROM_HOME</th>\n",
       "      <th>ACCT_CURR_BAL</th>\n",
       "      <th>AUTHZN_AMT</th>\n",
       "      <th>AUTHZN_OUTSTD_AMT</th>\n",
       "      <th>PLSTC_ISU_DUR</th>\n",
       "    </tr>\n",
       "  </thead>\n",
       "  <tbody>\n",
       "    <tr>\n",
       "      <th>695527</th>\n",
       "      <td>0</td>\n",
       "      <td>0</td>\n",
       "      <td>3063</td>\n",
       "      <td>1</td>\n",
       "      <td>0</td>\n",
       "      <td>346.780330</td>\n",
       "      <td>0.00</td>\n",
       "      <td>0.00</td>\n",
       "      <td>0.00</td>\n",
       "      <td>123</td>\n",
       "    </tr>\n",
       "    <tr>\n",
       "      <th>110525</th>\n",
       "      <td>3</td>\n",
       "      <td>6</td>\n",
       "      <td>6011</td>\n",
       "      <td>2</td>\n",
       "      <td>0</td>\n",
       "      <td>17.270464</td>\n",
       "      <td>232.82</td>\n",
       "      <td>63.00</td>\n",
       "      <td>317.97</td>\n",
       "      <td>642</td>\n",
       "    </tr>\n",
       "    <tr>\n",
       "      <th>1910345</th>\n",
       "      <td>1</td>\n",
       "      <td>1</td>\n",
       "      <td>5812</td>\n",
       "      <td>90</td>\n",
       "      <td>0</td>\n",
       "      <td>15.674769</td>\n",
       "      <td>282.81</td>\n",
       "      <td>4.33</td>\n",
       "      <td>4.33</td>\n",
       "      <td>284</td>\n",
       "    </tr>\n",
       "    <tr>\n",
       "      <th>1052733</th>\n",
       "      <td>1</td>\n",
       "      <td>2</td>\n",
       "      <td>5812</td>\n",
       "      <td>90</td>\n",
       "      <td>0</td>\n",
       "      <td>22.744324</td>\n",
       "      <td>411.73</td>\n",
       "      <td>5.02</td>\n",
       "      <td>5.02</td>\n",
       "      <td>464</td>\n",
       "    </tr>\n",
       "    <tr>\n",
       "      <th>820788</th>\n",
       "      <td>1</td>\n",
       "      <td>3</td>\n",
       "      <td>5812</td>\n",
       "      <td>90</td>\n",
       "      <td>0</td>\n",
       "      <td>53.759247</td>\n",
       "      <td>3664.23</td>\n",
       "      <td>34.12</td>\n",
       "      <td>35.12</td>\n",
       "      <td>397</td>\n",
       "    </tr>\n",
       "  </tbody>\n",
       "</table>\n",
       "</div>"
      ],
      "text/plain": [
       "         APPRD_AUTHZN_CNT  AVG_DLY_AUTHZN_AMT  MRCH_CATG_CD  \\\n",
       "695527                  0                   0          3063   \n",
       "110525                  3                   6          6011   \n",
       "1910345                 1                   1          5812   \n",
       "1052733                 1                   2          5812   \n",
       "820788                  1                   3          5812   \n",
       "\n",
       "         POS_ENTRY_MTHD_CD  RCURG_AUTHZN_IND  DISTANCE_FROM_HOME  \\\n",
       "695527                   1                 0          346.780330   \n",
       "110525                   2                 0           17.270464   \n",
       "1910345                 90                 0           15.674769   \n",
       "1052733                 90                 0           22.744324   \n",
       "820788                  90                 0           53.759247   \n",
       "\n",
       "         ACCT_CURR_BAL  AUTHZN_AMT  AUTHZN_OUTSTD_AMT  PLSTC_ISU_DUR  \n",
       "695527            0.00        0.00               0.00            123  \n",
       "110525          232.82       63.00             317.97            642  \n",
       "1910345         282.81        4.33               4.33            284  \n",
       "1052733         411.73        5.02               5.02            464  \n",
       "820788         3664.23       34.12              35.12            397  "
      ]
     },
     "execution_count": 5,
     "metadata": {},
     "output_type": "execute_result"
    }
   ],
   "source": [
    "x_train.head()"
   ]
  },
  {
   "cell_type": "code",
   "execution_count": 8,
   "id": "6a6511b6",
   "metadata": {},
   "outputs": [
    {
     "name": "stderr",
     "output_type": "stream",
     "text": [
      "C:\\Users\\george\\Anaconda3\\lib\\site-packages\\sklearn\\svm\\_base.py:947: ConvergenceWarning: Liblinear failed to converge, increase the number of iterations.\n",
      "  \"the number of iterations.\", ConvergenceWarning)\n"
     ]
    }
   ],
   "source": [
    "#fit and create score for the training and testing values\n",
    "clf.fit(x_train, y_train) # takes about 2-3 minutes to fit or 4 if saver on\n",
    "clf.score(x_test ,y_test)\n",
    "\n",
    "\n",
    "y_pred=clf.predict(x_test) #to create a y predict parameter for metrics\n"
   ]
  },
  {
   "cell_type": "code",
   "execution_count": 22,
   "id": "6c2ef70f",
   "metadata": {},
   "outputs": [
    {
     "data": {
      "text/plain": [
       "(485, 2005, 19)"
      ]
     },
     "execution_count": 22,
     "metadata": {},
     "output_type": "execute_result"
    }
   ],
   "source": [
    "np.sum(y_test), np.sum(y_train), np.sum(y_pred) #returns: (485, 2005, 1)\n"
   ]
  },
  {
   "cell_type": "markdown",
   "id": "66c1e253",
   "metadata": {},
   "source": [
    "### Accuracy Score, Confusion Matrix, and  ROC Curve"
   ]
  },
  {
   "cell_type": "code",
   "execution_count": 23,
   "id": "9717c967",
   "metadata": {},
   "outputs": [],
   "source": [
    "clfModels = []\n",
    "clfModels.append(clf)"
   ]
  },
  {
   "cell_type": "markdown",
   "id": "1549e72b",
   "metadata": {},
   "source": [
    "#### F1 and Accuracy Score Function"
   ]
  },
  {
   "cell_type": "code",
   "execution_count": 24,
   "id": "067e86ba",
   "metadata": {},
   "outputs": [],
   "source": [
    "def accuracyAndF1_scores(y_pred, y_test):\n",
    "    accuracyScore = sklearn.metrics.accuracy_score(y_pred, y_test)\n",
    "    print('Accuracy Score: ' + str(accuracyScore*100))\n",
    "    f1Score = sklearn.metrics.f1_score(y_test, y_pred)\n",
    "    print('F1 Score: ' + str(f1Score))"
   ]
  },
  {
   "cell_type": "code",
   "execution_count": 25,
   "id": "539d756f",
   "metadata": {},
   "outputs": [
    {
     "name": "stdout",
     "output_type": "stream",
     "text": [
      "Accuracy Score of: 99.87336715234385\n",
      "F1 Score of: 0.0\n"
     ]
    }
   ],
   "source": [
    "accuracyAndF1_scores(y_pred, y_test)"
   ]
  },
  {
   "cell_type": "markdown",
   "id": "c306da70",
   "metadata": {},
   "source": [
    "#### Raw Confusion Matrix"
   ]
  },
  {
   "cell_type": "code",
   "execution_count": 26,
   "id": "9497ae9f",
   "metadata": {},
   "outputs": [
    {
     "name": "stdout",
     "output_type": "stream",
     "text": [
      "[[397497     19]\n",
      " [   485      0]]\n"
     ]
    }
   ],
   "source": [
    "cm = sklearn.metrics.confusion_matrix(y_test, y_pred)\n",
    "print(cm)"
   ]
  },
  {
   "cell_type": "markdown",
   "id": "345d3cbf",
   "metadata": {},
   "source": [
    "#### Function to Visualize Confusion Matrix: Creates a Heatmap Confusion Matrix to Improve Visability  # (Needs Editing) !"
   ]
  },
  {
   "cell_type": "code",
   "execution_count": 27,
   "id": "7d2015e3",
   "metadata": {},
   "outputs": [],
   "source": [
    "def plot(y_test, y_pred): # Need to edit to include other plots like a time series plot of classified frauds vs all frauds, and a bar diagram comparing accuracy of the different models, etc.\n",
    "    labels = unique_labels(y_test)\n",
    "    columns = [f'Predicted{label}' for label in labels]\n",
    "    index = [f'Predicted{label}' for label in labels]\n",
    "    table = pd.DataFrame(sklearn.metrics.confusion_matrix(y_test, y_pred), columns = columns, index = index)\n",
    "    return sns.heatmap(table, annot = True, fmt = 'd', cmap = 'viridis')"
   ]
  },
  {
   "cell_type": "code",
   "execution_count": 28,
   "id": "d9571dd3",
   "metadata": {},
   "outputs": [
    {
     "data": {
      "text/plain": [
       "<AxesSubplot:>"
      ]
     },
     "execution_count": 28,
     "metadata": {},
     "output_type": "execute_result"
    }
   ],
   "source": [
    "plot(y_test, y_pred)"
   ]
  },
  {
   "cell_type": "markdown",
   "id": "e776bf9b",
   "metadata": {},
   "source": [
    "#### ROC Curve Function"
   ]
  },
  {
   "cell_type": "code",
   "execution_count": 29,
   "id": "0a803724",
   "metadata": {},
   "outputs": [],
   "source": [
    "#ROC CURVE\n",
    "br = \"\\n\" \n",
    "falseP, trueP, roc = sklearn.metrics.roc_curve(y_test,y_pred)#false positive, true positive, rocCurve\n",
    "# print(f\"ROC Curve Metrics:{br}True Postivies: {trueP}{br}False Positives: {falseP}{br}Bounds (I think):{roc}{br}\")\n",
    "#return confMx, falseP, trueP, rocCurve"
   ]
  },
  {
   "cell_type": "code",
   "execution_count": 30,
   "id": "2756481c",
   "metadata": {},
   "outputs": [
    {
     "data": {
      "image/png": "[encoded data removed]",
      "text/plain": [
       "<Figure size 640x480 with 2 Axes>"
      ]
     },
     "metadata": {},
     "output_type": "display_data"
    }
   ],
   "source": [
    "# Visualize the ROC curve using plotly express\n",
    "def rocGraph(y_test,y_predictions):\n",
    "    rocGraph.y_test = y_test \n",
    "    rocGraph.y_pred = y_predictions\n",
    "\n",
    "    \n",
    "    falseP, trueP, curve= sklearn.metrics.roc_curve(y_test,y_pred)#false positive, true positive, rocCurve\n",
    "   \n",
    "    plt.plot(falseP, trueP)\n",
    "    plt.ylabel(\"True Positive\")\n",
    "    plt.xlabel(\"False Positive\")\n",
    "    plt.show()\n",
    "\n",
    "\n",
    "rocGraph(y_test,y_pred)\n"
   ]
  },
  {
   "cell_type": "markdown",
   "id": "e8f26f34",
   "metadata": {},
   "source": [
    "### Analysis Using Different Models"
   ]
  },
  {
   "cell_type": "markdown",
   "id": "078465bd",
   "metadata": {},
   "source": [
    "### Logistic Regression"
   ]
  },
  {
   "cell_type": "code",
   "execution_count": 55,
   "id": "9fb54b79",
   "metadata": {},
   "outputs": [],
   "source": [
    "def log_reg(x_train, y_train):\n",
    "    clf2 = LogisticRegression(max_iter = 500)\n",
    "    clf2.fit(x_train, y_train)\n",
    "#     print(\"Logistic Regression model accuracy: \", 100 * clf2.score(x_test, y_test))\n",
    "    global y_pred2\n",
    "    y_pred2 = clf2.predict(x_test)\n",
    "    return y_pred2"
   ]
  },
  {
   "cell_type": "code",
   "execution_count": null,
   "id": "d8c71cd0",
   "metadata": {},
   "outputs": [],
   "source": [
    "log_reg(x_train, y_train)\n",
    "accuracyAndF1_scores(y_pred2, y_test)\n",
    "clfModels.append(log_reg)"
   ]
  },
  {
   "cell_type": "code",
   "execution_count": 38,
   "id": "677f854b",
   "metadata": {},
   "outputs": [
    {
     "data": {
      "text/plain": [
       "<AxesSubplot:>"
      ]
     },
     "execution_count": 38,
     "metadata": {},
     "output_type": "execute_result"
    }
   ],
   "source": [
    "plot(y_test, y_pred2)"
   ]
  },
  {
   "cell_type": "markdown",
   "id": "4de198fb",
   "metadata": {},
   "source": [
    "### Decision Tree"
   ]
  },
  {
   "cell_type": "code",
   "execution_count": 39,
   "id": "d6407ed6",
   "metadata": {},
   "outputs": [],
   "source": [
    "def decisiontree(x_train, y_train):\n",
    "    clf3 = DecisionTreeClassifier(max_depth = 3) #, random_state = 444) #takes a few minutes to run # could also edit max_depth\n",
    "    clf3.fit(x_train, y_train)\n",
    "#     print(\"Decision Tree model accuracy: \", 100 * clf3.score(x_test, y_test))\n",
    "    global y_pred3\n",
    "    y_pred3 = clf3.predict(x_test)\n",
    "    return y_pred3"
   ]
  },
  {
   "cell_type": "code",
   "execution_count": 54,
   "id": "0779006b",
   "metadata": {},
   "outputs": [
    {
     "name": "stdout",
     "output_type": "stream",
     "text": [
      "Decision Tree model accuracy:  99.8791460322964\n",
      "Accuracy Score of: 99.8791460322964\n",
      "F1 Score of: 0.02434077079107505\n"
     ]
    }
   ],
   "source": [
    "decisiontree(x_train, y_train)\n",
    "accuracyAndF1_scores(y_pred3, y_test)\n",
    "clfModels.append(decisiontree)"
   ]
  },
  {
   "cell_type": "code",
   "execution_count": 41,
   "id": "3274c77f",
   "metadata": {},
   "outputs": [
    {
     "data": {
      "text/plain": [
       "<AxesSubplot:>"
      ]
     },
     "execution_count": 41,
     "metadata": {},
     "output_type": "execute_result"
    }
   ],
   "source": [
    "plot(y_test, y_pred3)"
   ]
  },
  {
   "cell_type": "markdown",
   "id": "7a536d63",
   "metadata": {},
   "source": [
    "### Random Forest"
   ]
  },
  {
   "cell_type": "code",
   "execution_count": 50,
   "id": "4a209203",
   "metadata": {},
   "outputs": [],
   "source": [
    "def randomforest(x_train, y_train):\n",
    "    clf4 = RandomForestClassifier(max_depth = 3) #, random_state = 444) #takes about 5 minutes to run\n",
    "    clf4.fit(x_train, y_train)\n",
    "#     print(\"Random Forest model accuracy: \", 100 * clf4.score(x_test, y_test))\n",
    "    global y_pred4\n",
    "    y_pred4 = clf4.predict(x_test)\n",
    "#     plot(y_test, y_pred4)\n",
    "    return y_pred4\n",
    "    "
   ]
  },
  {
   "cell_type": "code",
   "execution_count": 51,
   "id": "1af88cda",
   "metadata": {},
   "outputs": [
    {
     "name": "stdout",
     "output_type": "stream",
     "text": [
      "Random Forest model accuracy:  99.87814100969595\n"
     ]
    }
   ],
   "source": [
    "randomforest(x_train, y_train)\n",
    "accuracyAndF1_scores(y_pred4, y_test)\n",
    "clfModels.append(randomforest)"
   ]
  },
  {
   "cell_type": "code",
   "execution_count": 44,
   "id": "ba15ec51",
   "metadata": {},
   "outputs": [
    {
     "data": {
      "text/plain": [
       "<AxesSubplot:>"
      ]
     },
     "execution_count": 44,
     "metadata": {},
     "output_type": "execute_result"
    }
   ],
   "source": [
    "plot(y_test, y_pred4)"
   ]
  },
  {
   "cell_type": "code",
   "execution_count": null,
   "id": "83b3597f",
   "metadata": {},
   "outputs": [],
   "source": [
    "# clf4 = RandomForestClassifier(max_depth = 3)"
   ]
  },
  {
   "cell_type": "code",
   "execution_count": null,
   "id": "b4724445",
   "metadata": {},
   "outputs": [],
   "source": [
    "# clf4.fit(x_train, y_train)"
   ]
  },
  {
   "cell_type": "code",
   "execution_count": null,
   "id": "f622d1c7",
   "metadata": {},
   "outputs": [],
   "source": [
    "# clf4.score(x_test, y_test)"
   ]
  },
  {
   "cell_type": "code",
   "execution_count": null,
   "id": "64d40a3e",
   "metadata": {},
   "outputs": [],
   "source": [
    "# y_pred4 = clf4.predict(x_test)"
   ]
  },
  {
   "cell_type": "code",
   "execution_count": null,
   "id": "8af1c13d",
   "metadata": {},
   "outputs": [],
   "source": [
    "# clfModels.append(clf4)"
   ]
  },
  {
   "cell_type": "markdown",
   "id": "51de6d3a",
   "metadata": {},
   "source": [
    "## Comparison of Confusion Matrices"
   ]
  },
  {
   "cell_type": "markdown",
   "id": "8fd0d620",
   "metadata": {},
   "source": [
    "### Linear Support Vector Classification"
   ]
  },
  {
   "cell_type": "code",
   "execution_count": 46,
   "id": "bdcb9c94",
   "metadata": {},
   "outputs": [],
   "source": [
    "# plot(y_test, y_pred)  # Definitely need to edit the plot func."
   ]
  },
  {
   "cell_type": "markdown",
   "id": "a7be4b52",
   "metadata": {},
   "source": [
    "### Logistic Regression Classifier"
   ]
  },
  {
   "cell_type": "code",
   "execution_count": 47,
   "id": "e4067bd4",
   "metadata": {},
   "outputs": [],
   "source": [
    "# plot(y_test, y_pred2)"
   ]
  },
  {
   "cell_type": "markdown",
   "id": "b7113b6e",
   "metadata": {},
   "source": [
    "### Decision Tree Classifier"
   ]
  },
  {
   "cell_type": "code",
   "execution_count": 48,
   "id": "8b2824f0",
   "metadata": {},
   "outputs": [],
   "source": [
    "# plot(y_test, y_pred3)"
   ]
  },
  {
   "cell_type": "markdown",
   "id": "cd8a0808",
   "metadata": {},
   "source": [
    "### Random Forest Classifier"
   ]
  },
  {
   "cell_type": "code",
   "execution_count": 2,
   "id": "478bb031",
   "metadata": {},
   "outputs": [],
   "source": [
    "# plot(y_test, y_pred4)"
   ]
  },
  {
   "cell_type": "markdown",
   "id": "a25f89b6",
   "metadata": {},
   "source": [
    "## ROC Curve Comparison"
   ]
  },
  {
   "cell_type": "code",
   "execution_count": 1,
   "id": "9b6d3bd0",
   "metadata": {},
   "outputs": [],
   "source": [
    "# roc_curve(clfModels)"
   ]
  },
  {
   "cell_type": "code",
   "execution_count": null,
   "id": "c171147a",
   "metadata": {},
   "outputs": [],
   "source": []
  },
  {
   "cell_type": "code",
   "execution_count": null,
   "id": "da9a4c2f",
   "metadata": {},
   "outputs": [],
   "source": []
  },
  {
   "cell_type": "code",
   "execution_count": null,
   "id": "076f30d8",
   "metadata": {},
   "outputs": [],
   "source": []
  },
  {
   "cell_type": "code",
   "execution_count": null,
   "id": "ee9ddae1",
   "metadata": {},
   "outputs": [],
   "source": []
  },
  {
   "cell_type": "code",
   "execution_count": null,
   "id": "703c2882",
   "metadata": {},
   "outputs": [],
   "source": []
  },
  {
   "cell_type": "code",
   "execution_count": null,
   "id": "6bd2b321",
   "metadata": {},
   "outputs": [],
   "source": []
  }
 ],
 "metadata": {
  "kernelspec": {
   "display_name": "Python 3",
   "language": "python",
   "name": "python3"
  },
  "language_info": {
   "codemirror_mode": {
    "name": "ipython",
    "version": 3
   },
   "file_extension": ".py",
   "mimetype": "text/x-python",
   "name": "python",
   "nbconvert_exporter": "python",
   "pygments_lexer": "ipython3",
   "version": "3.7.3"
  }
 },
 "nbformat": 4,
 "nbformat_minor": 5
}
