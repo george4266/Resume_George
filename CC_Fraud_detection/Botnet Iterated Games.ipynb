{
 "cells": [
  {
   "cell_type": "code",
   "execution_count": 97,
   "id": "090f451f",
   "metadata": {},
   "outputs": [],
   "source": [
    "import pandas as pd\n",
    "import matplotlib.pyplot as plt\n",
    "import numpy as np\n",
    "\n",
    "from sklearn.model_selection import train_test_split\n",
    "from sklearn.ensemble import RandomForestClassifier\n",
    "from sklearn.cluster import KMeans\n",
    "from sklearn.decomposition import PCA\n",
    "from sklearn.preprocessing import StandardScaler\n",
    "from sklearn.metrics import silhouette_score as sil_score\n",
    "from sklearn.metrics import balanced_accuracy_score\n",
    "from sklearn.base import clone"
   ]
  },
  {
   "cell_type": "markdown",
   "id": "7ebe954e",
   "metadata": {},
   "source": [
    "## Data location\n",
    "\n",
    "https://archive.ics.uci.edu/ml/datasets/detection_of_IoT_botnet_attacks_N_BaIoT"
   ]
  },
  {
   "cell_type": "markdown",
   "id": "413df59a",
   "metadata": {},
   "source": [
    "## Findings so far\n",
    "\n",
    "If we split the data randomly into ten rounds and retrain every round the performance stays near 100\\%. But if we start with an initial model that has seen some of every attack, iterate over the attacks each round and retrain each round performance craters. If we don't retrain each round, performance still craters. \n",
    "\n",
    "Defense policies for iterated game:\n",
    "- retraining decision\n",
    "- - never retrain\n",
    "- - always retrain\n",
    "- - only retrain when a threshold on perf is passed\n",
    "- retraining method\n",
    "- - fixed model\n",
    "- - mixed model, max perf on validation data\n",
    "- - mixed model, max posterior diff over those passing threshold on perf\n",
    "\n",
    "Offense policies for iterated game:\n",
    "- randomly: sample from attacks, iterate over attacks, switch between type of botnet\n",
    "- greedy: sample only from attack with highests win-rate in previous round\n",
    "- (relaxed greedy) clustering: sample from attacks within highest win-rate cluster in previous round"
   ]
  },
  {
   "cell_type": "markdown",
   "id": "b3f98484",
   "metadata": {},
   "source": [
    "## Load Data"
   ]
  },
  {
   "cell_type": "code",
   "execution_count": 2,
   "id": "0b38e15d",
   "metadata": {},
   "outputs": [],
   "source": [
    "devices = ['Danmini_Doorbell', 'Ecobee_Thermostat', 'Ennio_Doorbell', 'Philips_B120N10_Baby_Monitor',\n",
    "          'Provision_PT_737E_Security_Camera', 'Provision_PT_838_Security_Camera',\n",
    "          'Samsung_SNH_1011_WHT_Security_Camera', 'SimpleHome_XCS7_1002_WHT_Security_Camera',\n",
    "          'SimpleHome_XCS7_1003_WHT_Security_Camera']"
   ]
  },
  {
   "cell_type": "code",
   "execution_count": 3,
   "id": "93e7d616",
   "metadata": {},
   "outputs": [],
   "source": [
    "# load benign, mirai, and gafgyt data into single df with 'Class' label column\n",
    "def load_device_data(device):\n",
    "    \n",
    "    # load benign data into df\n",
    "    benign_path = 'Data/' + device + '/benign_traffic.csv'\n",
    "    df = pd.read_csv(benign_path)\n",
    "    df['Multi Class'] = 'benign'\n",
    "    \n",
    "    # load mirai data into df\n",
    "    if device != 'Ennio_Doorbell' and device != 'Samsung_SNH_1011_WHT_Security_Camera':\n",
    "        mirai_path = 'Data/' + device + '/mirai_attacks/'\n",
    "        for label in ['ack', 'scan', 'syn', 'udp', 'udpplain']:\n",
    "            temp = pd.read_csv(mirai_path + label + '.csv')\n",
    "            temp['Multi Class'] = 'mirai ' + label\n",
    "            df = pd.concat([df, temp], ignore_index=True)\n",
    "    \n",
    "    # load gafgyt data into df\n",
    "    gafgyt_path = 'Data/' + device + '/gafgyt_attacks/'\n",
    "    for label in ['combo', 'junk', 'scan', 'tcp', 'udp']:\n",
    "        temp = pd.read_csv(gafgyt_path + label + '.csv')\n",
    "        temp['Multi Class'] = 'gafgyt ' + label\n",
    "        df = pd.concat([df, temp], ignore_index=True)\n",
    "    \n",
    "    # add binary class label\n",
    "    df['Binary Class'] = [i if i == 'benign' else 'malicious' for i in df['Multi Class']]\n",
    "    \n",
    "    # return\n",
    "    return df"
   ]
  },
  {
   "cell_type": "code",
   "execution_count": 66,
   "id": "d12df587",
   "metadata": {},
   "outputs": [],
   "source": [
    "df = load_device_data(devices[0])"
   ]
  },
  {
   "cell_type": "code",
   "execution_count": 67,
   "id": "e09b1b49",
   "metadata": {
    "scrolled": true
   },
   "outputs": [
    {
     "data": {
      "text/html": [
       "<div>\n",
       "<style scoped>\n",
       "    .dataframe tbody tr th:only-of-type {\n",
       "        vertical-align: middle;\n",
       "    }\n",
       "\n",
       "    .dataframe tbody tr th {\n",
       "        vertical-align: top;\n",
       "    }\n",
       "\n",
       "    .dataframe thead th {\n",
       "        text-align: right;\n",
       "    }\n",
       "</style>\n",
       "<table border=\"1\" class=\"dataframe\">\n",
       "  <thead>\n",
       "    <tr style=\"text-align: right;\">\n",
       "      <th></th>\n",
       "      <th>MI_dir_L5_weight</th>\n",
       "      <th>MI_dir_L5_mean</th>\n",
       "      <th>MI_dir_L5_variance</th>\n",
       "      <th>MI_dir_L3_weight</th>\n",
       "      <th>MI_dir_L3_mean</th>\n",
       "      <th>MI_dir_L3_variance</th>\n",
       "      <th>MI_dir_L1_weight</th>\n",
       "      <th>MI_dir_L1_mean</th>\n",
       "      <th>MI_dir_L1_variance</th>\n",
       "      <th>MI_dir_L0.1_weight</th>\n",
       "      <th>...</th>\n",
       "      <th>HpHp_L0.1_pcc</th>\n",
       "      <th>HpHp_L0.01_weight</th>\n",
       "      <th>HpHp_L0.01_mean</th>\n",
       "      <th>HpHp_L0.01_std</th>\n",
       "      <th>HpHp_L0.01_magnitude</th>\n",
       "      <th>HpHp_L0.01_radius</th>\n",
       "      <th>HpHp_L0.01_covariance</th>\n",
       "      <th>HpHp_L0.01_pcc</th>\n",
       "      <th>Multi Class</th>\n",
       "      <th>Binary Class</th>\n",
       "    </tr>\n",
       "  </thead>\n",
       "  <tbody>\n",
       "    <tr>\n",
       "      <th>0</th>\n",
       "      <td>1.000000</td>\n",
       "      <td>60.000000</td>\n",
       "      <td>0.000000</td>\n",
       "      <td>1.000000</td>\n",
       "      <td>60.000000</td>\n",
       "      <td>0.000000</td>\n",
       "      <td>1.000000</td>\n",
       "      <td>60.000000</td>\n",
       "      <td>0.000000</td>\n",
       "      <td>1.000000</td>\n",
       "      <td>...</td>\n",
       "      <td>0.0</td>\n",
       "      <td>1.000000</td>\n",
       "      <td>60.000000</td>\n",
       "      <td>0.000000</td>\n",
       "      <td>60.000000</td>\n",
       "      <td>0.000000</td>\n",
       "      <td>0.0</td>\n",
       "      <td>0.0</td>\n",
       "      <td>benign</td>\n",
       "      <td>benign</td>\n",
       "    </tr>\n",
       "    <tr>\n",
       "      <th>1</th>\n",
       "      <td>1.000000</td>\n",
       "      <td>354.000000</td>\n",
       "      <td>0.000000</td>\n",
       "      <td>1.000000</td>\n",
       "      <td>354.000000</td>\n",
       "      <td>0.000000</td>\n",
       "      <td>1.000000</td>\n",
       "      <td>354.000000</td>\n",
       "      <td>0.000000</td>\n",
       "      <td>1.000000</td>\n",
       "      <td>...</td>\n",
       "      <td>0.0</td>\n",
       "      <td>5.319895</td>\n",
       "      <td>344.262695</td>\n",
       "      <td>4.710446</td>\n",
       "      <td>344.262695</td>\n",
       "      <td>22.188299</td>\n",
       "      <td>0.0</td>\n",
       "      <td>0.0</td>\n",
       "      <td>benign</td>\n",
       "      <td>benign</td>\n",
       "    </tr>\n",
       "    <tr>\n",
       "      <th>2</th>\n",
       "      <td>1.857879</td>\n",
       "      <td>360.458980</td>\n",
       "      <td>35.789338</td>\n",
       "      <td>1.912127</td>\n",
       "      <td>360.275733</td>\n",
       "      <td>35.923972</td>\n",
       "      <td>1.969807</td>\n",
       "      <td>360.091968</td>\n",
       "      <td>35.991542</td>\n",
       "      <td>1.996939</td>\n",
       "      <td>...</td>\n",
       "      <td>0.0</td>\n",
       "      <td>6.318264</td>\n",
       "      <td>347.703087</td>\n",
       "      <td>9.034660</td>\n",
       "      <td>347.703087</td>\n",
       "      <td>81.625077</td>\n",
       "      <td>0.0</td>\n",
       "      <td>0.0</td>\n",
       "      <td>benign</td>\n",
       "      <td>benign</td>\n",
       "    </tr>\n",
       "    <tr>\n",
       "      <th>3</th>\n",
       "      <td>1.000000</td>\n",
       "      <td>337.000000</td>\n",
       "      <td>0.000000</td>\n",
       "      <td>1.000000</td>\n",
       "      <td>337.000000</td>\n",
       "      <td>0.000000</td>\n",
       "      <td>1.000000</td>\n",
       "      <td>337.000000</td>\n",
       "      <td>0.000000</td>\n",
       "      <td>1.000000</td>\n",
       "      <td>...</td>\n",
       "      <td>0.0</td>\n",
       "      <td>1.000000</td>\n",
       "      <td>337.000000</td>\n",
       "      <td>0.000000</td>\n",
       "      <td>337.000000</td>\n",
       "      <td>0.000000</td>\n",
       "      <td>0.0</td>\n",
       "      <td>0.0</td>\n",
       "      <td>benign</td>\n",
       "      <td>benign</td>\n",
       "    </tr>\n",
       "    <tr>\n",
       "      <th>4</th>\n",
       "      <td>1.680223</td>\n",
       "      <td>172.140917</td>\n",
       "      <td>18487.448750</td>\n",
       "      <td>1.793580</td>\n",
       "      <td>182.560279</td>\n",
       "      <td>18928.175300</td>\n",
       "      <td>1.925828</td>\n",
       "      <td>193.165753</td>\n",
       "      <td>19153.795810</td>\n",
       "      <td>1.992323</td>\n",
       "      <td>...</td>\n",
       "      <td>0.0</td>\n",
       "      <td>1.000000</td>\n",
       "      <td>60.000000</td>\n",
       "      <td>0.000000</td>\n",
       "      <td>60.000000</td>\n",
       "      <td>0.000000</td>\n",
       "      <td>0.0</td>\n",
       "      <td>0.0</td>\n",
       "      <td>benign</td>\n",
       "      <td>benign</td>\n",
       "    </tr>\n",
       "  </tbody>\n",
       "</table>\n",
       "<p>5 rows × 117 columns</p>\n",
       "</div>"
      ],
      "text/plain": [
       "   MI_dir_L5_weight  MI_dir_L5_mean  MI_dir_L5_variance  MI_dir_L3_weight  \\\n",
       "0          1.000000       60.000000            0.000000          1.000000   \n",
       "1          1.000000      354.000000            0.000000          1.000000   \n",
       "2          1.857879      360.458980           35.789338          1.912127   \n",
       "3          1.000000      337.000000            0.000000          1.000000   \n",
       "4          1.680223      172.140917        18487.448750          1.793580   \n",
       "\n",
       "   MI_dir_L3_mean  MI_dir_L3_variance  MI_dir_L1_weight  MI_dir_L1_mean  \\\n",
       "0       60.000000            0.000000          1.000000       60.000000   \n",
       "1      354.000000            0.000000          1.000000      354.000000   \n",
       "2      360.275733           35.923972          1.969807      360.091968   \n",
       "3      337.000000            0.000000          1.000000      337.000000   \n",
       "4      182.560279        18928.175300          1.925828      193.165753   \n",
       "\n",
       "   MI_dir_L1_variance  MI_dir_L0.1_weight  ...  HpHp_L0.1_pcc  \\\n",
       "0            0.000000            1.000000  ...            0.0   \n",
       "1            0.000000            1.000000  ...            0.0   \n",
       "2           35.991542            1.996939  ...            0.0   \n",
       "3            0.000000            1.000000  ...            0.0   \n",
       "4        19153.795810            1.992323  ...            0.0   \n",
       "\n",
       "   HpHp_L0.01_weight  HpHp_L0.01_mean  HpHp_L0.01_std  HpHp_L0.01_magnitude  \\\n",
       "0           1.000000        60.000000        0.000000             60.000000   \n",
       "1           5.319895       344.262695        4.710446            344.262695   \n",
       "2           6.318264       347.703087        9.034660            347.703087   \n",
       "3           1.000000       337.000000        0.000000            337.000000   \n",
       "4           1.000000        60.000000        0.000000             60.000000   \n",
       "\n",
       "   HpHp_L0.01_radius  HpHp_L0.01_covariance  HpHp_L0.01_pcc  Multi Class  \\\n",
       "0           0.000000                    0.0             0.0       benign   \n",
       "1          22.188299                    0.0             0.0       benign   \n",
       "2          81.625077                    0.0             0.0       benign   \n",
       "3           0.000000                    0.0             0.0       benign   \n",
       "4           0.000000                    0.0             0.0       benign   \n",
       "\n",
       "   Binary Class  \n",
       "0        benign  \n",
       "1        benign  \n",
       "2        benign  \n",
       "3        benign  \n",
       "4        benign  \n",
       "\n",
       "[5 rows x 117 columns]"
      ]
     },
     "execution_count": 67,
     "metadata": {},
     "output_type": "execute_result"
    }
   ],
   "source": [
    "df.head()"
   ]
  },
  {
   "cell_type": "code",
   "execution_count": 68,
   "id": "a0c35d09",
   "metadata": {},
   "outputs": [
    {
     "data": {
      "text/plain": [
       "array(['benign', 'gafgyt combo', 'gafgyt junk', 'gafgyt scan',\n",
       "       'gafgyt tcp', 'gafgyt udp', 'mirai ack', 'mirai scan', 'mirai syn',\n",
       "       'mirai udp', 'mirai udpplain'], dtype=object)"
      ]
     },
     "execution_count": 68,
     "metadata": {},
     "output_type": "execute_result"
    }
   ],
   "source": [
    "np.unique(df['Multi Class'])"
   ]
  },
  {
   "cell_type": "code",
   "execution_count": 69,
   "id": "d873e741",
   "metadata": {
    "scrolled": true
   },
   "outputs": [
    {
     "data": {
      "text/plain": [
       "1018298"
      ]
     },
     "execution_count": 69,
     "metadata": {},
     "output_type": "execute_result"
    }
   ],
   "source": [
    "len(df.index)"
   ]
  },
  {
   "cell_type": "markdown",
   "id": "5cd355f3",
   "metadata": {},
   "source": [
    "## Add Round ID to Dataframe"
   ]
  },
  {
   "cell_type": "code",
   "execution_count": 70,
   "id": "5d31246b",
   "metadata": {},
   "outputs": [],
   "source": [
    "df['Round'] = [int(np.random.rand()*10) for i in range(len(df.index))]"
   ]
  },
  {
   "cell_type": "code",
   "execution_count": 71,
   "id": "992811e4",
   "metadata": {
    "scrolled": false
   },
   "outputs": [
    {
     "name": "stdout",
     "output_type": "stream",
     "text": [
      "[ 4935  5884  2887  2985  9202 10494 10236 10825 12334 23710  8133]\n",
      "[ 5006  5939  2942  2980  9273 10585 10193 10851 12140 23854  8281]\n",
      "[ 4955  5915  2940  3021  9061 10648 10361 10744 12192 23676  8117]\n",
      "[ 4975  5847  2910  2906  9356 10630 10278 10678 12358 23765  8207]\n",
      "[ 4947  6106  2908  2996  9204 10693 10148 10805 12192 23581  8239]\n",
      "[ 4981  5945  2906  2997  9075 10616  9987 10839 12082 24017  8075]\n",
      "[ 4923  6053  2924  2957  9368 10516 10253 10799 12226 23533  8197]\n",
      "[ 4932  5984  2782  2982  9228 10606 10111 10695 12317 23771  8166]\n",
      "[ 4942  5999  2893  3018  9130 10576 10284 10841 12363 23737  8396]\n",
      "[ 4952  6046  2976  3007  9244 10510 10344 10608 12369 24021  8171]\n"
     ]
    }
   ],
   "source": [
    "for i in range(10):\n",
    "    print(np.unique(df[df['Round'] == i]['Multi Class'], return_counts=True)[1])"
   ]
  },
  {
   "cell_type": "code",
   "execution_count": 72,
   "id": "2aeb83d1",
   "metadata": {
    "scrolled": true
   },
   "outputs": [
    {
     "data": {
      "text/plain": [
       "Index(['MI_dir_L5_weight', 'MI_dir_L5_mean', 'MI_dir_L5_variance',\n",
       "       'MI_dir_L3_weight', 'MI_dir_L3_mean', 'MI_dir_L3_variance',\n",
       "       'MI_dir_L1_weight', 'MI_dir_L1_mean', 'MI_dir_L1_variance',\n",
       "       'MI_dir_L0.1_weight',\n",
       "       ...\n",
       "       'HpHp_L0.01_weight', 'HpHp_L0.01_mean', 'HpHp_L0.01_std',\n",
       "       'HpHp_L0.01_magnitude', 'HpHp_L0.01_radius', 'HpHp_L0.01_covariance',\n",
       "       'HpHp_L0.01_pcc', 'Multi Class', 'Binary Class', 'Round'],\n",
       "      dtype='object', length=118)"
      ]
     },
     "execution_count": 72,
     "metadata": {},
     "output_type": "execute_result"
    }
   ],
   "source": [
    "df.columns"
   ]
  },
  {
   "cell_type": "code",
   "execution_count": 73,
   "id": "85e44bac",
   "metadata": {},
   "outputs": [],
   "source": [
    "u_df = df"
   ]
  },
  {
   "cell_type": "markdown",
   "id": "b4f38c13",
   "metadata": {},
   "source": [
    "## Data to Test Policies"
   ]
  },
  {
   "cell_type": "code",
   "execution_count": 11,
   "id": "7b71abe0",
   "metadata": {},
   "outputs": [],
   "source": [
    "x = df[df.columns[0:-3]]\n",
    "y = df[df.columns[-3::]]"
   ]
  },
  {
   "cell_type": "code",
   "execution_count": 12,
   "id": "a4834ff1",
   "metadata": {},
   "outputs": [
    {
     "data": {
      "text/html": [
       "<div>\n",
       "<style scoped>\n",
       "    .dataframe tbody tr th:only-of-type {\n",
       "        vertical-align: middle;\n",
       "    }\n",
       "\n",
       "    .dataframe tbody tr th {\n",
       "        vertical-align: top;\n",
       "    }\n",
       "\n",
       "    .dataframe thead th {\n",
       "        text-align: right;\n",
       "    }\n",
       "</style>\n",
       "<table border=\"1\" class=\"dataframe\">\n",
       "  <thead>\n",
       "    <tr style=\"text-align: right;\">\n",
       "      <th></th>\n",
       "      <th>Multi Class</th>\n",
       "      <th>Binary Class</th>\n",
       "      <th>Round</th>\n",
       "    </tr>\n",
       "  </thead>\n",
       "  <tbody>\n",
       "    <tr>\n",
       "      <th>0</th>\n",
       "      <td>benign</td>\n",
       "      <td>benign</td>\n",
       "      <td>8</td>\n",
       "    </tr>\n",
       "    <tr>\n",
       "      <th>1</th>\n",
       "      <td>benign</td>\n",
       "      <td>benign</td>\n",
       "      <td>4</td>\n",
       "    </tr>\n",
       "    <tr>\n",
       "      <th>2</th>\n",
       "      <td>benign</td>\n",
       "      <td>benign</td>\n",
       "      <td>4</td>\n",
       "    </tr>\n",
       "    <tr>\n",
       "      <th>3</th>\n",
       "      <td>benign</td>\n",
       "      <td>benign</td>\n",
       "      <td>4</td>\n",
       "    </tr>\n",
       "    <tr>\n",
       "      <th>4</th>\n",
       "      <td>benign</td>\n",
       "      <td>benign</td>\n",
       "      <td>7</td>\n",
       "    </tr>\n",
       "  </tbody>\n",
       "</table>\n",
       "</div>"
      ],
      "text/plain": [
       "  Multi Class Binary Class  Round\n",
       "0      benign       benign      8\n",
       "1      benign       benign      4\n",
       "2      benign       benign      4\n",
       "3      benign       benign      4\n",
       "4      benign       benign      7"
      ]
     },
     "execution_count": 12,
     "metadata": {},
     "output_type": "execute_result"
    }
   ],
   "source": [
    "y.head()"
   ]
  },
  {
   "cell_type": "code",
   "execution_count": 13,
   "id": "d430230c",
   "metadata": {},
   "outputs": [],
   "source": [
    "x_train, x_test, y_train, y_test = train_test_split(x, y['Multi Class'], random_state=42)"
   ]
  },
  {
   "cell_type": "code",
   "execution_count": 14,
   "id": "d6715946",
   "metadata": {},
   "outputs": [
    {
     "data": {
      "text/plain": [
       "RandomForestClassifier(random_state=0)"
      ]
     },
     "execution_count": 14,
     "metadata": {},
     "output_type": "execute_result"
    }
   ],
   "source": [
    "forest = RandomForestClassifier(random_state=0)\n",
    "forest.fit(x_train, y_train)"
   ]
  },
  {
   "cell_type": "markdown",
   "id": "4ffcf9f8",
   "metadata": {},
   "source": [
    "## Defense Policies\n",
    "\n",
    "Defense policies for iterated game:\n",
    "- retraining decision\n",
    "- - never retrain\n",
    "- - always retrain\n",
    "- - only retrain when a threshold on perf is passed\n",
    "- retraining method\n",
    "- - fixed model\n",
    "- - mixed model, max perf on validation data\n",
    "- - mixed model, max posterior diff on validation data\n",
    "- - mixed model, max posterior diff over those passing threshold on perf"
   ]
  },
  {
   "cell_type": "code",
   "execution_count": 129,
   "id": "7f819840",
   "metadata": {},
   "outputs": [],
   "source": [
    "# decision_key's: 'never', 'always, incremental', 'always, from scratch', 'threshold, incremental'\n",
    "#                 'threshold, from scratch'\n",
    "# method_key's: 'fixed', 'max perf', 'max diff', 'threshold'\n",
    "def retraining_decision(clf, x, y, prev_acc, t=0.8, decision_key='never', method_key='fixed'):\n",
    "    # never train\n",
    "    if decision_key == 'never':\n",
    "        return clf\n",
    "    \n",
    "    # always retrain\n",
    "    if decision_key == 'always, incremental':\n",
    "        return retraining_method(clf, x, y, prev_acc, t, method_key)\n",
    "        \n",
    "    if decision_key == 'always, from scratch':\n",
    "        clf_new = clone(clf)\n",
    "        return retraining_method(clf_new, x, y, prev_acc, t, method_key)\n",
    "    \n",
    "    # retrain if threshold is passed\n",
    "    if 'threshold' in decision_key:\n",
    "        if prev_acc >= t:\n",
    "            return clf\n",
    "        else:\n",
    "            if 'incremental' in decision_key:\n",
    "                return retraining_method(clf, x, y, prev_acc, t, key=method_key)\n",
    "            else:\n",
    "                clf_new = clone(clf)\n",
    "                return retraining_method(clf_new, x, y, prev_acc, t, key=method_key)\n",
    "    \n",
    "    # crash if invalid decision_key\n",
    "    return \"Bad Key\"\n",
    "\n",
    "def mixed_models(x, y):\n",
    "    # NEED to MAKE SURE THESE ARE INITIALIZED WITH FULL OUTPUT SPACE, MAYBE PASS \n",
    "    # IN A SET OF INITIALIZED MODELS LIKE FOR THE SINGLE MODEL CASE\n",
    "    forest1 = RandomForestClassifier(random_state=0)\n",
    "    forest2 = RandomForestClassifier(random_state=1)\n",
    "    forest3 = RandomForestClassifier(random_state=2)\n",
    "    \n",
    "    forest1.fit(x, y)\n",
    "    forest2.fit(x, y)\n",
    "    forest3.fit(x, y)\n",
    "    \n",
    "    return [forest1, forest2, forest3]\n",
    "    \n",
    "\n",
    "def retraining_method(clf, x, y, prev_acc, t, key):\n",
    "\n",
    "    # only one model\n",
    "    if key == 'fixed':\n",
    "        clf.fit(x, y)\n",
    "        return clf\n",
    "    \n",
    "    # picking from a bag of models...\n",
    "    x_tr, x_te, y_tr, y_te = train_test_split(x, y, random_state=42)\n",
    "    models = mixed_models(x_tr, y_tr)\n",
    "    \n",
    "    # ... model with maximum performance\n",
    "    if key == 'max perf':\n",
    "        perfs = [balanced_accuracy_score(y_te, model.predict(y_te)) for model in models]\n",
    "        return models[np.argmax(perfs)]\n",
    "    \n",
    "    # ... model with maximum posterior divergence from previous model\n",
    "    if key == 'max diff':\n",
    "        preds_prev = clf.predict(y_te)\n",
    "        preds_models = [model.predict(x_te) for model in models]\n",
    "        diffs = [np.median(preds_prev - preds_model) for preds_model in preds_models]\n",
    "        return models[np.argmax(diffs)]\n",
    "    \n",
    "    # ... model with maximum posterior if performance drops\n",
    "    if key == 'threshold':\n",
    "        if prev_acc >= t:\n",
    "            return clf\n",
    "        else:\n",
    "            retraining_method(clf, x, y, prev_acc, t, key='max diff')\n",
    "    \n",
    "    # crash if invalid decision key\n",
    "    return \"Bad Key\""
   ]
  },
  {
   "cell_type": "markdown",
   "id": "ea17549b",
   "metadata": {},
   "source": [
    "## Offense Policies\n",
    "Offense policies for iterated game:\n",
    "- offense_policy_random: sample from attacks, iterate over attacks, switch between type of botnet\n",
    "- offense_policy_greedy: sample only from attack with highests win-rate in previous round\n",
    "- offense_policy_clustering: sample from attacks within highest win-rate cluster in previous round"
   ]
  },
  {
   "cell_type": "code",
   "execution_count": 126,
   "id": "fac315bd",
   "metadata": {},
   "outputs": [],
   "source": [
    "def offense_policy_random(df, size, key='random sample'):\n",
    "    # randomly sample from given df\n",
    "    if key == 'random sample':\n",
    "        return df.sample(size)\n",
    "    \n",
    "    # randomly sample a single attack from given df\n",
    "    if key == 'random attack':\n",
    "        choice = int(np.random.rand() * len(np.unique(df['Multi Class'])))\n",
    "        choice = np.unique(df['Multi Class'])[choice]\n",
    "        return df[df['Multi Class'] == choice].sample(size)\n",
    "    \n",
    "    # randomly sample a single botnet's attacks from a given df\n",
    "    if key == 'random botnet':\n",
    "        choice = int(np.random.rand()*2)\n",
    "        if choice == 0:\n",
    "            return df[df['Multi Class'].str.contains('gafgyt')].sample(size)\n",
    "        else:\n",
    "            return df[df['Multi Class'].str.contains('mirai')].sample(size)\n",
    "\n",
    "        \n",
    "def offense_policy_greedy(df, size, best_attack):\n",
    "    # get only best attack\n",
    "    return df[df['Multi Class'] == best_attack].sample(size)\n",
    "\n",
    "\n",
    "def offense_policy_clustering(df, size, x_past, y_past, y_pred, round_id):\n",
    "    \n",
    "    def get_best_clusters(x):\n",
    "        scores, clusterer = [], []\n",
    "        # test cluster sizes 2, 3, 4\n",
    "        for i in range(3):\n",
    "            print('Fitting cluster')\n",
    "            kmeans = KMeans(n_clusters=i+2, random_state=0).fit(x)\n",
    "            clusterer.append(kmeans)\n",
    "            scores.append(sil_score(x, kmeans.labels_))\n",
    "        # return best fitted kmeans\n",
    "        return clusterer[np.argmax(np.asarray(scores))]\n",
    "    \n",
    "    # get boolean for results\n",
    "    correctness = [np.asarray(y_test)[i] == np.asarray(y_pred)[i] for i in range(len(y_test))]\n",
    "    \n",
    "    # get x\n",
    "    x = df[df.columns[0:-3]]\n",
    "    \n",
    "    # fit PCA\n",
    "    pca = PCA(n_components=2)\n",
    "    scaler = StandardScaler().fit(x_past)\n",
    "    x_s = scaler.transform(x_past)\n",
    "    pca.fit(x_s)\n",
    "    x_p = pca.transform(x_s)\n",
    "    \n",
    "    # cluster PCA\n",
    "    kmeans = get_best_clusters(x_p)\n",
    "    \n",
    "    # plot clusters\n",
    "    plt.scatter([i[0] for i in x_p], [i[1] for i in x_p], c=kmeans.labels_)\n",
    "    plt.savefig('pca_round_' + str(round_id) + '.png', dpi=300)\n",
    "    plt.show()\n",
    "    \n",
    "    # get clusters with highest win-rate:\n",
    "    wins = []\n",
    "    for i in np.unique(kmeans.labels_):\n",
    "        correctness_c = [correctness[j] for j in kmeans.labels_ if j == i]\n",
    "        wins.append(sum(correctness_c))\n",
    "    best_cluster = np.unique(kmeans.labels_)[np.argmax(np.asarray(wins))]\n",
    "    \n",
    "    # get df for best_cluster\n",
    "    df['Cluster'] = kmeans.predict(pca.transform(scaler.transform(x)))\n",
    "    df[df['Cluster'] == best_cluster]\n",
    "    df.drop(labels='Cluster', axis=1, inplace=True)\n",
    "    return df.sample(size)\n",
    "\n",
    "# keys: random sample, random attack, random botnet, greedy, clustering\n",
    "def get_new_attacks(df, size, x_past, y_past, y_pred, round_id, key='greedy'):\n",
    "    \n",
    "    # get best attacks (drop benign)\n",
    "    successful_attacks = [np.asarray(y_past)[j] for j in range(len(y_past)) if np.asarray(y_past)[j] != np.asarray(y_pred)[j]]\n",
    "    successful_attacks = [sa for sa in successful_attacks if 'benign' not in sa]\n",
    "    print('... ' + str(len(successful_attacks)) + ' Successful Attacks Last Round')\n",
    "    \n",
    "    # if there are no successful attacks randomly pick one, otherwise pick the best\n",
    "    best_attack = df[df['Multi Class'] != 'benign']['Multi Class'].sample(1).values[0]\n",
    "    if len(successful_attacks) > 0:\n",
    "        best_attack = np.unique(successful_attacks)[np.argmax(np.unique(successful_attacks, return_counts=True)[1])]\n",
    "    print('... ' + best_attack + ' is Last Round\\'s Best Attack')\n",
    "    \n",
    "    # execute strategy\n",
    "    if 'random' in key:\n",
    "        return offense_policy_random(df, size, key=key)\n",
    "    \n",
    "    if key == 'greedy':\n",
    "        return offense_policy_greedy(df, size, best_attack)\n",
    "    \n",
    "    if key == 'clustering':\n",
    "        return offense_policy_greedy(df, size, x_past, y_past, y_pred, round_id)\n",
    "    \n",
    "    # crash on invalid key\n",
    "    return \"Bad Key\""
   ]
  },
  {
   "cell_type": "code",
   "execution_count": 18,
   "id": "dfe63d79",
   "metadata": {},
   "outputs": [
    {
     "data": {
      "text/plain": [
       "851516      gafgyt tcp\n",
       "876577      gafgyt tcp\n",
       "998137      gafgyt udp\n",
       "963859      gafgyt udp\n",
       "809398     gafgyt scan\n",
       "978139      gafgyt udp\n",
       "879991      gafgyt tcp\n",
       "799396     gafgyt scan\n",
       "791013     gafgyt scan\n",
       "1014138     gafgyt udp\n",
       "Name: Multi Class, dtype: object"
      ]
     },
     "execution_count": 18,
     "metadata": {},
     "output_type": "execute_result"
    }
   ],
   "source": [
    "offense_policy_random(df, 1000, 'random botnet')['Multi Class'].head(10)"
   ]
  },
  {
   "cell_type": "code",
   "execution_count": 19,
   "id": "c9f0ebe4",
   "metadata": {},
   "outputs": [
    {
     "data": {
      "text/plain": [
       "89108     mirai ack\n",
       "86418     mirai ack\n",
       "66867     mirai ack\n",
       "130354    mirai ack\n",
       "55978     mirai ack\n",
       "126671    mirai ack\n",
       "51320     mirai ack\n",
       "130002    mirai ack\n",
       "83697     mirai ack\n",
       "111512    mirai ack\n",
       "Name: Multi Class, dtype: object"
      ]
     },
     "execution_count": 19,
     "metadata": {},
     "output_type": "execute_result"
    }
   ],
   "source": [
    "offense_policy_greedy(df, 1000, 'mirai ack')['Multi Class'].head(10)"
   ]
  },
  {
   "cell_type": "code",
   "execution_count": 20,
   "id": "abdf4ecd",
   "metadata": {
    "scrolled": true
   },
   "outputs": [
    {
     "name": "stdout",
     "output_type": "stream",
     "text": [
      "Fitting cluster\n",
      "Fitting cluster\n",
      "Fitting cluster\n"
     ]
    },
    {
     "data": {
      "image/png": "[encoded data removed]",
      "text/plain": [
       "<Figure size 432x288 with 1 Axes>"
      ]
     },
     "metadata": {
      "needs_background": "light"
     },
     "output_type": "display_data"
    }
   ],
   "source": [
    "dft = offense_policy_clustering(df, 1000, x_test, y_test, forest.predict(x_test), 0)"
   ]
  },
  {
   "cell_type": "code",
   "execution_count": 21,
   "id": "66c0da19",
   "metadata": {},
   "outputs": [
    {
     "data": {
      "text/plain": [
       "469022       mirai udp\n",
       "597181       mirai udp\n",
       "756521    gafgyt combo\n",
       "338200       mirai syn\n",
       "505389       mirai udp\n",
       "483668       mirai udp\n",
       "988454      gafgyt udp\n",
       "429207       mirai udp\n",
       "191088      mirai scan\n",
       "524602       mirai udp\n",
       "Name: Multi Class, dtype: object"
      ]
     },
     "execution_count": 21,
     "metadata": {},
     "output_type": "execute_result"
    }
   ],
   "source": [
    "dft['Multi Class'].head(10)"
   ]
  },
  {
   "cell_type": "markdown",
   "id": "ea0bffaa",
   "metadata": {},
   "source": [
    "## Experiments"
   ]
  },
  {
   "cell_type": "code",
   "execution_count": 84,
   "id": "cdca0c61",
   "metadata": {},
   "outputs": [
    {
     "data": {
      "text/plain": [
       "(array(['benign', 'gafgyt combo', 'gafgyt junk', 'gafgyt scan',\n",
       "        'gafgyt tcp', 'gafgyt udp', 'mirai ack', 'mirai scan', 'mirai syn',\n",
       "        'mirai udp', 'mirai udpplain'], dtype=object),\n",
       " array([ 4935,  5884,  2887,  2985,  9202, 10494, 10236, 10825, 12334,\n",
       "        23710,  8133]))"
      ]
     },
     "execution_count": 84,
     "metadata": {},
     "output_type": "execute_result"
    }
   ],
   "source": [
    "# class totals in a given round r\n",
    "r = 0\n",
    "np.unique(u_df[u_df['Round'] == r]['Multi Class'], return_counts=True)"
   ]
  },
  {
   "cell_type": "markdown",
   "id": "fab1781d",
   "metadata": {},
   "source": [
    "# Notes\n",
    "\n",
    "Bug found: defender gets 100% accuracy the simulation crashes because there are no \"successful attacks\" to sample from in the first few lines of the \"get_new_attacks\" function. This was addressed by initializing \"best attack\" with random attack.\n",
    "\n",
    "Bug suspected: An issue not yet seen is that when retraining from scratch not all classes might be available when clf.fit() is called. That is, e.g., if only gafgyt junk was selected then when the current round's gafgyt junk attack sample and the benign sample are combined there are missing adversary classes. This doesn't cause an issue currently because the initial clf is trained with all classes, and clf is \"sklearn.base.clone\"'d when retraining from scratch. Therefore the output space has all classes even though many of those classes may not be available. Probably when multiple models are used they need to be initialized in a similar manner (i.e., in the 'mixed_models()' function."
   ]
  },
  {
   "cell_type": "code",
   "execution_count": 130,
   "id": "b9484aff",
   "metadata": {},
   "outputs": [
    {
     "name": "stdout",
     "output_type": "stream",
     "text": [
      "Botnet Iterated Games Simulation ...\n",
      "... Initializing\n",
      "... Initial Score = 0.9994121861927444\n",
      "... Defense Strategy: always, from scratch | fixed\n",
      "... Adversary Strategy: random attack\n",
      "\n",
      "Round 1 Starting ...\n",
      "... 7 Successful Attacks Last Round\n",
      "... gafgyt junk is Last Round's Best Attack\n",
      "... New Attacks Selected by Adversary\n",
      "... New Classifier Selected by Defender\n",
      "... Conducting Round\n",
      "... Evaluating Performance\n",
      "... Score = 0.9989001198561727\n",
      "\n",
      "Round 2 Starting ...\n",
      "... 1 Successful Attacks Last Round\n",
      "... gafgyt combo is Last Round's Best Attack\n"
     ]
    },
    {
     "name": "stderr",
     "output_type": "stream",
     "text": [
      "/Users/tyler/miniforge3/envs/tf_ml/lib/python3.8/site-packages/sklearn/metrics/_classification.py:1854: UserWarning: y_pred contains classes not in y_true\n",
      "  warnings.warn('y_pred contains classes not in y_true')\n"
     ]
    },
    {
     "name": "stdout",
     "output_type": "stream",
     "text": [
      "... New Attacks Selected by Adversary\n",
      "... New Classifier Selected by Defender\n",
      "... Conducting Round\n",
      "... Evaluating Performance\n",
      "... Score = 0.5\n",
      "\n",
      "Round 3 Starting ...\n",
      "... 500 Successful Attacks Last Round\n",
      "... mirai syn is Last Round's Best Attack\n"
     ]
    },
    {
     "name": "stderr",
     "output_type": "stream",
     "text": [
      "/Users/tyler/miniforge3/envs/tf_ml/lib/python3.8/site-packages/sklearn/metrics/_classification.py:1854: UserWarning: y_pred contains classes not in y_true\n",
      "  warnings.warn('y_pred contains classes not in y_true')\n"
     ]
    },
    {
     "name": "stdout",
     "output_type": "stream",
     "text": [
      "... New Attacks Selected by Adversary\n",
      "... New Classifier Selected by Defender\n",
      "... Conducting Round\n",
      "... Evaluating Performance\n",
      "... Score = 0.5\n",
      "\n",
      "Round 4 Starting ...\n",
      "... 500 Successful Attacks Last Round\n",
      "... gafgyt scan is Last Round's Best Attack\n"
     ]
    },
    {
     "name": "stderr",
     "output_type": "stream",
     "text": [
      "/Users/tyler/miniforge3/envs/tf_ml/lib/python3.8/site-packages/sklearn/metrics/_classification.py:1854: UserWarning: y_pred contains classes not in y_true\n",
      "  warnings.warn('y_pred contains classes not in y_true')\n"
     ]
    },
    {
     "name": "stdout",
     "output_type": "stream",
     "text": [
      "... New Attacks Selected by Adversary\n",
      "... New Classifier Selected by Defender\n",
      "... Conducting Round\n",
      "... Evaluating Performance\n",
      "... Score = 0.5\n",
      "\n",
      "Round 5 Starting ...\n",
      "... 500 Successful Attacks Last Round\n",
      "... gafgyt tcp is Last Round's Best Attack\n",
      "... New Attacks Selected by Adversary\n",
      "... New Classifier Selected by Defender\n",
      "... Conducting Round\n",
      "... Evaluating Performance\n",
      "... Score = 0.49989961855049186\n",
      "\n",
      "Round 6 Starting ...\n",
      "... 500 Successful Attacks Last Round\n",
      "... mirai udp is Last Round's Best Attack\n"
     ]
    },
    {
     "name": "stderr",
     "output_type": "stream",
     "text": [
      "/Users/tyler/miniforge3/envs/tf_ml/lib/python3.8/site-packages/sklearn/metrics/_classification.py:1854: UserWarning: y_pred contains classes not in y_true\n",
      "  warnings.warn('y_pred contains classes not in y_true')\n"
     ]
    },
    {
     "name": "stdout",
     "output_type": "stream",
     "text": [
      "... New Attacks Selected by Adversary\n",
      "... New Classifier Selected by Defender\n",
      "... Conducting Round\n",
      "... Evaluating Performance\n",
      "... Score = 0.5\n",
      "\n",
      "Round 7 Starting ...\n",
      "... 500 Successful Attacks Last Round\n",
      "... mirai ack is Last Round's Best Attack\n"
     ]
    },
    {
     "name": "stderr",
     "output_type": "stream",
     "text": [
      "/Users/tyler/miniforge3/envs/tf_ml/lib/python3.8/site-packages/sklearn/metrics/_classification.py:1854: UserWarning: y_pred contains classes not in y_true\n",
      "  warnings.warn('y_pred contains classes not in y_true')\n"
     ]
    },
    {
     "name": "stdout",
     "output_type": "stream",
     "text": [
      "... New Attacks Selected by Adversary\n",
      "... New Classifier Selected by Defender\n",
      "... Conducting Round\n",
      "... Evaluating Performance\n",
      "... Score = 0.5\n",
      "\n",
      "Round 8 Starting ...\n",
      "... 500 Successful Attacks Last Round\n",
      "... gafgyt udp is Last Round's Best Attack\n",
      "... New Attacks Selected by Adversary\n",
      "... New Classifier Selected by Defender\n",
      "... Conducting Round\n",
      "... Evaluating Performance\n",
      "... Score = 0.5\n",
      "\n",
      "Round 9 Starting ...\n",
      "... 500 Successful Attacks Last Round\n",
      "... mirai syn is Last Round's Best Attack\n"
     ]
    },
    {
     "name": "stderr",
     "output_type": "stream",
     "text": [
      "/Users/tyler/miniforge3/envs/tf_ml/lib/python3.8/site-packages/sklearn/metrics/_classification.py:1854: UserWarning: y_pred contains classes not in y_true\n",
      "  warnings.warn('y_pred contains classes not in y_true')\n"
     ]
    },
    {
     "name": "stdout",
     "output_type": "stream",
     "text": [
      "... New Attacks Selected by Adversary\n",
      "... New Classifier Selected by Defender\n",
      "... Conducting Round\n",
      "... Evaluating Performance\n",
      "... Score = 1.0\n",
      "\n"
     ]
    }
   ],
   "source": [
    "# initialize model\n",
    "init_df = u_df[u_df['Round'] == 0]\n",
    "x, y = init_df[init_df.columns[0:-3]], init_df[init_df.columns[-3::]]\n",
    "x_tr, x_te, y_tr, y_te = train_test_split(x, y['Multi Class'], random_state=42)\n",
    "\n",
    "print('Botnet Iterated Games Simulation ...')\n",
    "print('... Initializing')\n",
    "clf = RandomForestClassifier(random_state=0)\n",
    "clf.fit(x_tr, y_tr)\n",
    "prev_acc = balanced_accuracy_score(y_te, clf.predict(x_te))\n",
    "print('... Initial Score = ' + str(prev_acc))\n",
    "\n",
    "# game parameters\n",
    "benign_size = 4000\n",
    "\n",
    "# defense strategy parameters\n",
    "decision_key = 'always, from scratch'\n",
    "method_key = 'fixed'\n",
    "t = 0.8\n",
    "\n",
    "# offense strategy parameters\n",
    "offense_key = 'random sample'\n",
    "size = 500\n",
    "\n",
    "# intialize stores\n",
    "balanced_accuracies = [prev_acc]\n",
    "\n",
    "print('... Defense Strategy: ' + decision_key + ' | ' + method_key)\n",
    "print('... Adversary Strategy: ' + offense_key + '\\n')\n",
    "\n",
    "# run next 9 rounds\n",
    "for i in range(9):\n",
    "    i += 1\n",
    "    \n",
    "    # print\n",
    "    print('Round ' + str(i) + ' Starting ...')\n",
    "    \n",
    "    # run offensive strategy (get sample of attacks)\n",
    "    df_attack = get_new_attacks(u_df[u_df['Round'] == i], size, x_te, y_te, clf.predict(x_te), i, offense_key)\n",
    "    print('... New Attacks Selected by Adversary')\n",
    "    \n",
    "    # run defensive strategy (get new classifier)\n",
    "    clf = retraining_decision(clf, x_te, y_te, prev_acc, t, decision_key, method_key)\n",
    "    print('... New Classifier Selected by Defender')\n",
    "    \n",
    "    # conduct round\n",
    "    print('... Conducting Round')\n",
    "    \n",
    "    # ... get this round's benign data\n",
    "    df = u_df[u_df['Round'] == i]\n",
    "    df = df[df['Multi Class'] == 'benign']\n",
    "    df.sample(benign_size)\n",
    "    \n",
    "    # ... combine it with this round's attack data\n",
    "    df = pd.concat([df, df_attack])\n",
    "    x_te, y_te = df[df.columns[0:-3]], df[df.columns[-3::]]['Multi Class']\n",
    "    \n",
    "    # ... evaluate\n",
    "    print('... Evaluating Performance')\n",
    "    prev_acc = balanced_accuracy_score(y_te, clf.predict(x_te))\n",
    "    balanced_accuracies.append(prev_acc)\n",
    "    print('... Score = ' + str(prev_acc) + '\\n')"
   ]
  },
  {
   "cell_type": "code",
   "execution_count": null,
   "id": "f23b6bb9",
   "metadata": {},
   "outputs": [],
   "source": []
  }
 ],
 "metadata": {
  "kernelspec": {
   "display_name": "Python 3 (ipykernel)",
   "language": "python",
   "name": "python3"
  },
  "language_info": {
   "codemirror_mode": {
    "name": "ipython",
    "version": 3
   },
   "file_extension": ".py",
   "mimetype": "text/x-python",
   "name": "python",
   "nbconvert_exporter": "python",
   "pygments_lexer": "ipython3",
   "version": "3.8.10"
  }
 },
 "nbformat": 4,
 "nbformat_minor": 5
}
