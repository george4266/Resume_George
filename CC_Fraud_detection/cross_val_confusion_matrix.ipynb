{
 "cells": [
  {
   "cell_type": "code",
   "execution_count": 3,
   "id": "e9ce113a",
   "metadata": {},
   "outputs": [],
   "source": [
    "import pandas as pd\n",
    "from sklearn.model_selection import train_test_split\n",
    "from sklearn import svm\n",
    "from collections import Counter\n",
    "from sklearn import preprocessing\n",
    "from sklearn.metrics import confusion_matrix\n",
    "from sklearn.metrics import classification_report,confusion_matrix"
   ]
  },
  {
   "cell_type": "markdown",
   "id": "749d54d8",
   "metadata": {},
   "source": [
    "<p>false positive = not fraud and detected as fraud\n",
    "<p>false negative = was fraud and detected as not fraud\n",
    "<p>true positive = fraud and detected as fraud\n",
    "<p>true negative = not fraud and detected as not fraud"
   ]
  },
  {
   "cell_type": "markdown",
   "id": "7f8eb771",
   "metadata": {},
   "source": [
    "### Load data and print columns."
   ]
  },
  {
   "cell_type": "code",
   "execution_count": 4,
   "id": "cf9d87f6",
   "metadata": {},
   "outputs": [],
   "source": [
    "df = pd.read_csv('./sample-1-25.csv/sample-1-25.csv')"
   ]
  },
  {
   "cell_type": "code",
   "execution_count": 5,
   "id": "68027cb4",
   "metadata": {
    "scrolled": true
   },
   "outputs": [
    {
     "data": {
      "text/html": [
       "<div>\n",
       "<style scoped>\n",
       "    .dataframe tbody tr th:only-of-type {\n",
       "        vertical-align: middle;\n",
       "    }\n",
       "\n",
       "    .dataframe tbody tr th {\n",
       "        vertical-align: top;\n",
       "    }\n",
       "\n",
       "    .dataframe thead th {\n",
       "        text-align: right;\n",
       "    }\n",
       "</style>\n",
       "<table border=\"1\" class=\"dataframe\">\n",
       "  <thead>\n",
       "    <tr style=\"text-align: right;\">\n",
       "      <th></th>\n",
       "      <th>FRD_IND</th>\n",
       "      <th>APPRD_AUTHZN_CNT</th>\n",
       "      <th>AVG_DLY_AUTHZN_AMT</th>\n",
       "      <th>MRCH_CATG_CD</th>\n",
       "      <th>POS_ENTRY_MTHD_CD</th>\n",
       "      <th>RCURG_AUTHZN_IND</th>\n",
       "      <th>DISTANCE_FROM_HOME</th>\n",
       "      <th>ACCT_CURR_BAL</th>\n",
       "      <th>AUTHZN_AMT</th>\n",
       "      <th>AUTHZN_OUTSTD_AMT</th>\n",
       "      <th>PLSTC_ISU_DUR</th>\n",
       "    </tr>\n",
       "  </thead>\n",
       "  <tbody>\n",
       "    <tr>\n",
       "      <th>0</th>\n",
       "      <td>0</td>\n",
       "      <td>3</td>\n",
       "      <td>7</td>\n",
       "      <td>5812</td>\n",
       "      <td>90</td>\n",
       "      <td>0</td>\n",
       "      <td>0.000000</td>\n",
       "      <td>2498.21</td>\n",
       "      <td>15.52</td>\n",
       "      <td>94.28</td>\n",
       "      <td>805</td>\n",
       "    </tr>\n",
       "    <tr>\n",
       "      <th>1</th>\n",
       "      <td>0</td>\n",
       "      <td>1</td>\n",
       "      <td>6</td>\n",
       "      <td>5541</td>\n",
       "      <td>90</td>\n",
       "      <td>0</td>\n",
       "      <td>0.000000</td>\n",
       "      <td>88.88</td>\n",
       "      <td>46.56</td>\n",
       "      <td>56.31</td>\n",
       "      <td>68</td>\n",
       "    </tr>\n",
       "    <tr>\n",
       "      <th>2</th>\n",
       "      <td>0</td>\n",
       "      <td>4</td>\n",
       "      <td>0</td>\n",
       "      <td>5965</td>\n",
       "      <td>81</td>\n",
       "      <td>0</td>\n",
       "      <td>358.850300</td>\n",
       "      <td>1934.36</td>\n",
       "      <td>16.34</td>\n",
       "      <td>927.13</td>\n",
       "      <td>190</td>\n",
       "    </tr>\n",
       "    <tr>\n",
       "      <th>3</th>\n",
       "      <td>0</td>\n",
       "      <td>0</td>\n",
       "      <td>3</td>\n",
       "      <td>5542</td>\n",
       "      <td>90</td>\n",
       "      <td>0</td>\n",
       "      <td>4.293625</td>\n",
       "      <td>916.04</td>\n",
       "      <td>1.00</td>\n",
       "      <td>0.00</td>\n",
       "      <td>217</td>\n",
       "    </tr>\n",
       "    <tr>\n",
       "      <th>4</th>\n",
       "      <td>0</td>\n",
       "      <td>1</td>\n",
       "      <td>2</td>\n",
       "      <td>5814</td>\n",
       "      <td>90</td>\n",
       "      <td>0</td>\n",
       "      <td>509.830350</td>\n",
       "      <td>166.62</td>\n",
       "      <td>10.66</td>\n",
       "      <td>10.66</td>\n",
       "      <td>110</td>\n",
       "    </tr>\n",
       "  </tbody>\n",
       "</table>\n",
       "</div>"
      ],
      "text/plain": [
       "   FRD_IND  APPRD_AUTHZN_CNT  AVG_DLY_AUTHZN_AMT  MRCH_CATG_CD  \\\n",
       "0        0                 3                   7          5812   \n",
       "1        0                 1                   6          5541   \n",
       "2        0                 4                   0          5965   \n",
       "3        0                 0                   3          5542   \n",
       "4        0                 1                   2          5814   \n",
       "\n",
       "   POS_ENTRY_MTHD_CD  RCURG_AUTHZN_IND  DISTANCE_FROM_HOME  ACCT_CURR_BAL  \\\n",
       "0                 90                 0            0.000000        2498.21   \n",
       "1                 90                 0            0.000000          88.88   \n",
       "2                 81                 0          358.850300        1934.36   \n",
       "3                 90                 0            4.293625         916.04   \n",
       "4                 90                 0          509.830350         166.62   \n",
       "\n",
       "   AUTHZN_AMT  AUTHZN_OUTSTD_AMT  PLSTC_ISU_DUR  \n",
       "0       15.52              94.28            805  \n",
       "1       46.56              56.31             68  \n",
       "2       16.34             927.13            190  \n",
       "3        1.00               0.00            217  \n",
       "4       10.66              10.66            110  "
      ]
     },
     "execution_count": 5,
     "metadata": {},
     "output_type": "execute_result"
    }
   ],
   "source": [
    "df.head()"
   ]
  },
  {
   "cell_type": "code",
   "execution_count": 6,
   "id": "5f2089c8",
   "metadata": {},
   "outputs": [
    {
     "data": {
      "text/plain": [
       "Index(['FRD_IND', 'APPRD_AUTHZN_CNT', 'AVG_DLY_AUTHZN_AMT', 'MRCH_CATG_CD',\n",
       "       'POS_ENTRY_MTHD_CD', 'RCURG_AUTHZN_IND', 'DISTANCE_FROM_HOME',\n",
       "       'ACCT_CURR_BAL', 'AUTHZN_AMT', 'AUTHZN_OUTSTD_AMT', 'PLSTC_ISU_DUR'],\n",
       "      dtype='object')"
      ]
     },
     "execution_count": 6,
     "metadata": {},
     "output_type": "execute_result"
    }
   ],
   "source": [
    "df.columns"
   ]
  },
  {
   "cell_type": "markdown",
   "id": "52e35f1c",
   "metadata": {},
   "source": [
    "### Training/testing split."
   ]
  },
  {
   "cell_type": "code",
   "execution_count": 7,
   "id": "785e7db9",
   "metadata": {},
   "outputs": [],
   "source": [
    "y_col, x_col = df.columns[0], df.columns[1::]"
   ]
  },
  {
   "cell_type": "code",
   "execution_count": 8,
   "id": "55085e10",
   "metadata": {},
   "outputs": [],
   "source": [
    "x, xt, y, yt = train_test_split(df[x_col], df[y_col], test_size=0.20, random_state=444)"
   ]
  },
  {
   "cell_type": "code",
   "execution_count": 9,
   "id": "39ef1f68",
   "metadata": {},
   "outputs": [
    {
     "data": {
      "text/html": [
       "<div>\n",
       "<style scoped>\n",
       "    .dataframe tbody tr th:only-of-type {\n",
       "        vertical-align: middle;\n",
       "    }\n",
       "\n",
       "    .dataframe tbody tr th {\n",
       "        vertical-align: top;\n",
       "    }\n",
       "\n",
       "    .dataframe thead th {\n",
       "        text-align: right;\n",
       "    }\n",
       "</style>\n",
       "<table border=\"1\" class=\"dataframe\">\n",
       "  <thead>\n",
       "    <tr style=\"text-align: right;\">\n",
       "      <th></th>\n",
       "      <th>APPRD_AUTHZN_CNT</th>\n",
       "      <th>AVG_DLY_AUTHZN_AMT</th>\n",
       "      <th>MRCH_CATG_CD</th>\n",
       "      <th>POS_ENTRY_MTHD_CD</th>\n",
       "      <th>RCURG_AUTHZN_IND</th>\n",
       "      <th>DISTANCE_FROM_HOME</th>\n",
       "      <th>ACCT_CURR_BAL</th>\n",
       "      <th>AUTHZN_AMT</th>\n",
       "      <th>AUTHZN_OUTSTD_AMT</th>\n",
       "      <th>PLSTC_ISU_DUR</th>\n",
       "    </tr>\n",
       "  </thead>\n",
       "  <tbody>\n",
       "    <tr>\n",
       "      <th>695527</th>\n",
       "      <td>0</td>\n",
       "      <td>0</td>\n",
       "      <td>3063</td>\n",
       "      <td>1</td>\n",
       "      <td>0</td>\n",
       "      <td>346.780330</td>\n",
       "      <td>0.00</td>\n",
       "      <td>0.00</td>\n",
       "      <td>0.00</td>\n",
       "      <td>123</td>\n",
       "    </tr>\n",
       "    <tr>\n",
       "      <th>110525</th>\n",
       "      <td>3</td>\n",
       "      <td>6</td>\n",
       "      <td>6011</td>\n",
       "      <td>2</td>\n",
       "      <td>0</td>\n",
       "      <td>17.270464</td>\n",
       "      <td>232.82</td>\n",
       "      <td>63.00</td>\n",
       "      <td>317.97</td>\n",
       "      <td>642</td>\n",
       "    </tr>\n",
       "    <tr>\n",
       "      <th>1910345</th>\n",
       "      <td>1</td>\n",
       "      <td>1</td>\n",
       "      <td>5812</td>\n",
       "      <td>90</td>\n",
       "      <td>0</td>\n",
       "      <td>15.674769</td>\n",
       "      <td>282.81</td>\n",
       "      <td>4.33</td>\n",
       "      <td>4.33</td>\n",
       "      <td>284</td>\n",
       "    </tr>\n",
       "    <tr>\n",
       "      <th>1052733</th>\n",
       "      <td>1</td>\n",
       "      <td>2</td>\n",
       "      <td>5812</td>\n",
       "      <td>90</td>\n",
       "      <td>0</td>\n",
       "      <td>22.744324</td>\n",
       "      <td>411.73</td>\n",
       "      <td>5.02</td>\n",
       "      <td>5.02</td>\n",
       "      <td>464</td>\n",
       "    </tr>\n",
       "    <tr>\n",
       "      <th>820788</th>\n",
       "      <td>1</td>\n",
       "      <td>3</td>\n",
       "      <td>5812</td>\n",
       "      <td>90</td>\n",
       "      <td>0</td>\n",
       "      <td>53.759247</td>\n",
       "      <td>3664.23</td>\n",
       "      <td>34.12</td>\n",
       "      <td>35.12</td>\n",
       "      <td>397</td>\n",
       "    </tr>\n",
       "  </tbody>\n",
       "</table>\n",
       "</div>"
      ],
      "text/plain": [
       "         APPRD_AUTHZN_CNT  AVG_DLY_AUTHZN_AMT  MRCH_CATG_CD  \\\n",
       "695527                  0                   0          3063   \n",
       "110525                  3                   6          6011   \n",
       "1910345                 1                   1          5812   \n",
       "1052733                 1                   2          5812   \n",
       "820788                  1                   3          5812   \n",
       "\n",
       "         POS_ENTRY_MTHD_CD  RCURG_AUTHZN_IND  DISTANCE_FROM_HOME  \\\n",
       "695527                   1                 0          346.780330   \n",
       "110525                   2                 0           17.270464   \n",
       "1910345                 90                 0           15.674769   \n",
       "1052733                 90                 0           22.744324   \n",
       "820788                  90                 0           53.759247   \n",
       "\n",
       "         ACCT_CURR_BAL  AUTHZN_AMT  AUTHZN_OUTSTD_AMT  PLSTC_ISU_DUR  \n",
       "695527            0.00        0.00               0.00            123  \n",
       "110525          232.82       63.00             317.97            642  \n",
       "1910345         282.81        4.33               4.33            284  \n",
       "1052733         411.73        5.02               5.02            464  \n",
       "820788         3664.23       34.12              35.12            397  "
      ]
     },
     "execution_count": 9,
     "metadata": {},
     "output_type": "execute_result"
    }
   ],
   "source": [
    "x.head()"
   ]
  },
  {
   "cell_type": "markdown",
   "id": "e088ce59",
   "metadata": {},
   "source": [
    "### Basic SVM model."
   ]
  },
  {
   "cell_type": "code",
   "execution_count": 10,
   "id": "948b6ae2",
   "metadata": {},
   "outputs": [],
   "source": [
    "xtrain_normal = preprocessing.normalize(x, norm='l2')\n",
    "xtest_normal = preprocessing.normalize(xt, norm='l2')"
   ]
  },
  {
   "cell_type": "code",
   "execution_count": 11,
   "id": "876403e9",
   "metadata": {},
   "outputs": [],
   "source": [
    "clf = svm.LinearSVC(max_iter=500)"
   ]
  },
  {
   "cell_type": "code",
   "execution_count": 13,
   "id": "f91bc31a",
   "metadata": {},
   "outputs": [
    {
     "data": {
      "text/plain": [
       "LinearSVC(C=1.0, class_weight=None, dual=True, fit_intercept=True,\n",
       "     intercept_scaling=1, loss='squared_hinge', max_iter=500,\n",
       "     multi_class='ovr', penalty='l2', random_state=None, tol=0.0001,\n",
       "     verbose=0)"
      ]
     },
     "execution_count": 13,
     "metadata": {},
     "output_type": "execute_result"
    }
   ],
   "source": [
    "clf.fit(xtrain_normal, y)"
   ]
  },
  {
   "cell_type": "code",
   "execution_count": 15,
   "id": "0518a2ed",
   "metadata": {},
   "outputs": [],
   "source": [
    "y_pred = clf.predict(xtest_normal)"
   ]
  },
  {
   "cell_type": "code",
   "execution_count": 19,
   "id": "8461f434",
   "metadata": {},
   "outputs": [],
   "source": [
    "cm = confusion_matrix(yt, y_pred)"
   ]
  },
  {
   "cell_type": "code",
   "execution_count": 21,
   "id": "329b99d4",
   "metadata": {},
   "outputs": [],
   "source": [
    "tn, fp, fn, tp = cm.ravel()"
   ]
  },
  {
   "cell_type": "code",
   "execution_count": 22,
   "id": "c88d0b27",
   "metadata": {},
   "outputs": [
    {
     "data": {
      "text/plain": [
       "array([[397516,      0],\n",
       "       [   485,      0]])"
      ]
     },
     "execution_count": 22,
     "metadata": {},
     "output_type": "execute_result"
    }
   ],
   "source": [
    "cm # Missed all fraudulant transactions since class are so imbalanced"
   ]
  },
  {
   "cell_type": "code",
   "execution_count": 33,
   "id": "9081fb53",
   "metadata": {},
   "outputs": [
    {
     "data": {
      "text/plain": [
       "Counter({0: 397516, 1: 485})"
      ]
     },
     "execution_count": 33,
     "metadata": {},
     "output_type": "execute_result"
    }
   ],
   "source": [
    "c = Counter(yt)\n",
    "c"
   ]
  },
  {
   "cell_type": "code",
   "execution_count": 34,
   "id": "4e4ba589",
   "metadata": {},
   "outputs": [
    {
     "data": {
      "text/plain": [
       "Counter({0: 398001})"
      ]
     },
     "execution_count": 34,
     "metadata": {},
     "output_type": "execute_result"
    }
   ],
   "source": [
    "cp = Counter(y_pred)\n",
    "cp"
   ]
  },
  {
   "cell_type": "markdown",
   "id": "109e0644",
   "metadata": {},
   "source": [
    "## NN model"
   ]
  },
  {
   "cell_type": "code",
   "execution_count": 7,
   "id": "e3c271c6",
   "metadata": {},
   "outputs": [],
   "source": [
    "from sklearn.neural_network import MLPClassifier"
   ]
  },
  {
   "cell_type": "code",
   "execution_count": 57,
   "id": "5a8fbe9e",
   "metadata": {},
   "outputs": [],
   "source": [
    "mlp = MLPClassifier(solver='adam', activation='relu', alpha=1e-5, hidden_layer_sizes=(5,2), max_iter=500)"
   ]
  },
  {
   "cell_type": "code",
   "execution_count": 58,
   "id": "3b492a03",
   "metadata": {},
   "outputs": [
    {
     "data": {
      "text/plain": [
       "MLPClassifier(activation='relu', alpha=1e-05, batch_size='auto', beta_1=0.9,\n",
       "       beta_2=0.999, early_stopping=False, epsilon=1e-08,\n",
       "       hidden_layer_sizes=(5, 2), learning_rate='constant',\n",
       "       learning_rate_init=0.001, max_iter=500, momentum=0.9,\n",
       "       n_iter_no_change=10, nesterovs_momentum=True, power_t=0.5,\n",
       "       random_state=None, shuffle=True, solver='adam', tol=0.0001,\n",
       "       validation_fraction=0.1, verbose=False, warm_start=False)"
      ]
     },
     "execution_count": 58,
     "metadata": {},
     "output_type": "execute_result"
    }
   ],
   "source": [
    "mlp.fit(xtrain_normal, y)"
   ]
  },
  {
   "cell_type": "code",
   "execution_count": 59,
   "id": "8551823e",
   "metadata": {},
   "outputs": [],
   "source": [
    "predict_train = mlp.predict(xtest_normal)"
   ]
  },
  {
   "cell_type": "code",
   "execution_count": 60,
   "id": "cbc272f5",
   "metadata": {},
   "outputs": [],
   "source": [
    "nncm = confusion_matrix(yt, predict_train) # missed all fraudulent examples becuase of class imabalance?"
   ]
  },
  {
   "cell_type": "code",
   "execution_count": 61,
   "id": "ec8b5700",
   "metadata": {},
   "outputs": [
    {
     "data": {
      "text/plain": [
       "array([[397516,      0],\n",
       "       [   485,      0]])"
      ]
     },
     "execution_count": 61,
     "metadata": {},
     "output_type": "execute_result"
    }
   ],
   "source": [
    "nncm"
   ]
  },
  {
   "cell_type": "markdown",
   "id": "1c3331a8",
   "metadata": {},
   "source": [
    "## SMOTE"
   ]
  },
  {
   "cell_type": "code",
   "execution_count": 19,
   "id": "1db38072",
   "metadata": {},
   "outputs": [],
   "source": [
    "# from imblearn.over_sampling import SMOTE\n",
    "\n",
    "from sklearn.datasets import make_classification\n",
    "from imblearn.over_sampling import RandomOverSampler"
   ]
  },
  {
   "cell_type": "code",
   "execution_count": 20,
   "id": "3383e65a",
   "metadata": {},
   "outputs": [
    {
     "name": "stderr",
     "output_type": "stream",
     "text": [
      "C:\\Users\\george\\Anaconda3\\lib\\site-packages\\sklearn\\utils\\deprecation.py:87: FutureWarning: Function safe_indexing is deprecated; safe_indexing is deprecated in version 0.22 and will be removed in version 0.24.\n",
      "  warnings.warn(msg, category=FutureWarning)\n"
     ]
    }
   ],
   "source": [
    "# x_resampled, y_resampled = SMOTE().fit_resample(x, y)\n",
    "\n",
    "oversample = RandomOverSampler()\n",
    "x_resampled, y_resampled = oversample.fit_sample(x, y)"
   ]
  },
  {
   "cell_type": "code",
   "execution_count": 21,
   "id": "09fbfe36",
   "metadata": {},
   "outputs": [
    {
     "name": "stdout",
     "output_type": "stream",
     "text": [
      "Counter({0: 1589998, 1: 1589998})\n"
     ]
    }
   ],
   "source": [
    "countSMOTE = Counter(y_resampled)\n",
    "print(countSMOTE)"
   ]
  },
  {
   "cell_type": "code",
   "execution_count": null,
   "id": "563e5d00",
   "metadata": {},
   "outputs": [],
   "source": []
  },
  {
   "cell_type": "markdown",
   "id": "33d8335e",
   "metadata": {},
   "source": [
    "## SVM with Balanced Classes"
   ]
  },
  {
   "cell_type": "code",
   "execution_count": 15,
   "id": "37fb22f5",
   "metadata": {},
   "outputs": [],
   "source": [
    "clf = svm.LinearSVC(max_iter=500)"
   ]
  },
  {
   "cell_type": "code",
   "execution_count": 16,
   "id": "35f623ef",
   "metadata": {},
   "outputs": [
    {
     "name": "stderr",
     "output_type": "stream",
     "text": [
      "C:\\Users\\george\\Anaconda3\\lib\\site-packages\\sklearn\\svm\\_base.py:947: ConvergenceWarning: Liblinear failed to converge, increase the number of iterations.\n",
      "  \"the number of iterations.\", ConvergenceWarning)\n"
     ]
    },
    {
     "data": {
      "text/plain": [
       "LinearSVC(C=1.0, class_weight=None, dual=True, fit_intercept=True,\n",
       "          intercept_scaling=1, loss='squared_hinge', max_iter=500,\n",
       "          multi_class='ovr', penalty='l2', random_state=None, tol=0.0001,\n",
       "          verbose=0)"
      ]
     },
     "execution_count": 16,
     "metadata": {},
     "output_type": "execute_result"
    }
   ],
   "source": [
    "x_resampled_normal = preprocessing.normalize(x_resampled, norm='l2')\n",
    "clf.fit(x_resampled_normal, y_resampled)"
   ]
  },
  {
   "cell_type": "code",
   "execution_count": 17,
   "id": "8e52cd89",
   "metadata": {},
   "outputs": [],
   "source": [
    "resampled_predict = clf.predict(xtest_normal)"
   ]
  },
  {
   "cell_type": "code",
   "execution_count": 18,
   "id": "61f69d3f",
   "metadata": {},
   "outputs": [
    {
     "data": {
      "text/plain": [
       "array([[     1, 397515],\n",
       "       [     0,    485]], dtype=int64)"
      ]
     },
     "execution_count": 18,
     "metadata": {},
     "output_type": "execute_result"
    }
   ],
   "source": [
    "svmcm = confusion_matrix(yt, resampled_predict)\n",
    "svmcm"
   ]
  },
  {
   "cell_type": "code",
   "execution_count": 88,
   "id": "b9c98d73",
   "metadata": {},
   "outputs": [
    {
     "name": "stdout",
     "output_type": "stream",
     "text": [
      "Counter({0: 310288, 1: 87713})\n",
      "Counter({0: 397516, 1: 485})\n"
     ]
    }
   ],
   "source": [
    "tn, fp, fn, tp = svmcm.ravel()\n",
    "print(Counter(resampled_predict))\n",
    "print(Counter(yt))"
   ]
  },
  {
   "cell_type": "code",
   "execution_count": 89,
   "id": "7a530e85",
   "metadata": {},
   "outputs": [
    {
     "name": "stdout",
     "output_type": "stream",
     "text": [
      "              precision    recall  f1-score   support\n",
      "\n",
      "           0       1.00      0.78      0.88    397516\n",
      "           1       0.00      0.60      0.01       485\n",
      "\n",
      "   micro avg       0.78      0.78      0.78    398001\n",
      "   macro avg       0.50      0.69      0.44    398001\n",
      "weighted avg       1.00      0.78      0.88    398001\n",
      "\n"
     ]
    }
   ],
   "source": [
    "print(classification_report(yt, resampled_predict))"
   ]
  },
  {
   "cell_type": "markdown",
   "id": "779d116e",
   "metadata": {},
   "source": [
    "## NN with Balanced Classes"
   ]
  },
  {
   "cell_type": "code",
   "execution_count": 68,
   "id": "ad3ba697",
   "metadata": {},
   "outputs": [],
   "source": [
    "mlp = MLPClassifier(solver='adam', activation='relu', alpha=1e-5, hidden_layer_sizes=(5,2), max_iter=500)"
   ]
  },
  {
   "cell_type": "code",
   "execution_count": 69,
   "id": "bc4210ca",
   "metadata": {},
   "outputs": [
    {
     "data": {
      "text/plain": [
       "MLPClassifier(activation='relu', alpha=1e-05, batch_size='auto', beta_1=0.9,\n",
       "       beta_2=0.999, early_stopping=False, epsilon=1e-08,\n",
       "       hidden_layer_sizes=(5, 2), learning_rate='constant',\n",
       "       learning_rate_init=0.001, max_iter=500, momentum=0.9,\n",
       "       n_iter_no_change=10, nesterovs_momentum=True, power_t=0.5,\n",
       "       random_state=None, shuffle=True, solver='adam', tol=0.0001,\n",
       "       validation_fraction=0.1, verbose=False, warm_start=False)"
      ]
     },
     "execution_count": 69,
     "metadata": {},
     "output_type": "execute_result"
    }
   ],
   "source": [
    "x_resampled_normal = preprocessing.normalize(x_resampled, norm='l2')\n",
    "mlp.fit(x_resampled_normal, y_resampled)"
   ]
  },
  {
   "cell_type": "code",
   "execution_count": 96,
   "id": "592516ff",
   "metadata": {},
   "outputs": [],
   "source": [
    "resampled_predict = mlp.predict(xtest_normal)"
   ]
  },
  {
   "cell_type": "code",
   "execution_count": 97,
   "id": "3ed4b4a5",
   "metadata": {},
   "outputs": [],
   "source": [
    "nncm = confusion_matrix(yt, resampled_predict)"
   ]
  },
  {
   "cell_type": "code",
   "execution_count": 98,
   "id": "06fa0880",
   "metadata": {},
   "outputs": [
    {
     "data": {
      "text/plain": [
       "array([[284361, 113155],\n",
       "       [   149,    336]])"
      ]
     },
     "execution_count": 98,
     "metadata": {},
     "output_type": "execute_result"
    }
   ],
   "source": [
    "nncm"
   ]
  },
  {
   "cell_type": "code",
   "execution_count": 99,
   "id": "7a8d6bcc",
   "metadata": {},
   "outputs": [
    {
     "name": "stdout",
     "output_type": "stream",
     "text": [
      "Counter({0: 284510, 1: 113491})\n",
      "Counter({0: 397516, 1: 485})\n"
     ]
    }
   ],
   "source": [
    "tn, fp, fn, tp = nncm.ravel()\n",
    "print(Counter(resampled_predict))\n",
    "print(Counter(yt))"
   ]
  },
  {
   "cell_type": "code",
   "execution_count": 100,
   "id": "46b95cf7",
   "metadata": {},
   "outputs": [
    {
     "name": "stdout",
     "output_type": "stream",
     "text": [
      "              precision    recall  f1-score   support\n",
      "\n",
      "           0       1.00      0.72      0.83    397516\n",
      "           1       0.00      0.69      0.01       485\n",
      "\n",
      "   micro avg       0.72      0.72      0.72    398001\n",
      "   macro avg       0.50      0.70      0.42    398001\n",
      "weighted avg       1.00      0.72      0.83    398001\n",
      "\n"
     ]
    }
   ],
   "source": [
    "print(classification_report(yt, resampled_predict))"
   ]
  },
  {
   "cell_type": "markdown",
   "id": "433dd87c",
   "metadata": {},
   "source": [
    "## Cross Validation"
   ]
  },
  {
   "cell_type": "code",
   "execution_count": 50,
   "id": "e0d9397e",
   "metadata": {},
   "outputs": [],
   "source": [
    "from sklearn.model_selection import KFold"
   ]
  },
  {
   "cell_type": "code",
   "execution_count": 91,
   "id": "ce7ab04d",
   "metadata": {},
   "outputs": [
    {
     "data": {
      "text/plain": [
       "array([0, 0, 0, ..., 1, 1, 1])"
      ]
     },
     "execution_count": 91,
     "metadata": {},
     "output_type": "execute_result"
    }
   ],
   "source": []
  },
  {
   "cell_type": "code",
   "execution_count": 103,
   "id": "992ff28f",
   "metadata": {},
   "outputs": [
    {
     "name": "stdout",
     "output_type": "stream",
     "text": [
      "3179996\n",
      "[[396230 238913]\n",
      " [   167    690]]\n",
      "[[396112 239119]\n",
      " [   158    610]]\n",
      "[[249066  70558]\n",
      " [121778 194597]]\n",
      "[[     0      0]\n",
      " [349594 286405]]\n",
      "[[     0      0]\n",
      " [349958 286041]]\n"
     ]
    }
   ],
   "source": [
    "conf_matrix_list_of_arrays = []\n",
    "kf = KFold(n_splits=5, random_state=None, shuffle=False)\n",
    "\n",
    "print(len(x_resampled))\n",
    "for train_index, test_index in kf.split(x_resampled):\n",
    "    \n",
    "    X_train, X_valid = x_resampled[train_index], x_resampled[test_index]\n",
    "    y_train, y_valid = y_resampled[train_index], y_resampled[test_index]\n",
    "    \n",
    "    X_train = preprocessing.normalize(X_train, norm='l2')\n",
    "    X_valid = preprocessing.normalize(X_test, norm='l2')\n",
    "    \n",
    "    clf.fit(X_train, y_train)\n",
    "    print(confusion_matrix(y_valid, clf.predict(X_test)))"
   ]
  },
  {
   "cell_type": "markdown",
   "id": "3fae265b",
   "metadata": {},
   "source": [
    "## AutoEncoder"
   ]
  },
  {
   "cell_type": "code",
   "execution_count": 12,
   "id": "e48b5eb6",
   "metadata": {},
   "outputs": [],
   "source": [
    "import numpy as np\n",
    "import matplotlib.pyplot as plt\n",
    "\n",
    "from sklearn.neural_network import MLPRegressor\n",
    "from sklearn.metrics import accuracy_score"
   ]
  },
  {
   "cell_type": "code",
   "execution_count": 14,
   "id": "ce5e6ed8",
   "metadata": {},
   "outputs": [],
   "source": [
    "# Shape of input and latent variable\n",
    "\n",
    "n_input = 10\n",
    "\n",
    "# Encoder structure\n",
    "n_encoder1 = 7\n",
    "n_encoder2 = 5\n",
    "\n",
    "n_latent = 2\n",
    "\n",
    "# Decoder structure\n",
    "n_decoder2 = 5\n",
    "n_decoder1 = 7"
   ]
  },
  {
   "cell_type": "code",
   "execution_count": 42,
   "id": "dc885ab7",
   "metadata": {},
   "outputs": [],
   "source": [
    "reg = MLPRegressor(hidden_layer_sizes = (n_encoder1, n_encoder2, n_latent, n_decoder2, n_decoder1), \n",
    "                   activation = 'relu', \n",
    "                   solver = 'adam', \n",
    "                   learning_rate_init = 0.001, \n",
    "                   max_iter = 20, \n",
    "                   tol = 0.0000001, \n",
    "                   verbose = True)"
   ]
  },
  {
   "cell_type": "code",
   "execution_count": 43,
   "id": "e8681286",
   "metadata": {},
   "outputs": [
    {
     "name": "stdout",
     "output_type": "stream",
     "text": [
      "Iteration 1, loss = 314234.10897845\n",
      "Iteration 2, loss = 281684.36462762\n",
      "Iteration 3, loss = 280569.45757405\n",
      "Iteration 4, loss = 279832.43158658\n"
     ]
    },
    {
     "name": "stderr",
     "output_type": "stream",
     "text": [
      "/Users/nicky/opt/miniconda3/envs/ml35/lib/python3.5/site-packages/sklearn/neural_network/multilayer_perceptron.py:564: UserWarning: Training interrupted by user.\n",
      "  warnings.warn(\"Training interrupted by user.\")\n"
     ]
    },
    {
     "data": {
      "text/plain": [
       "MLPRegressor(activation='relu', alpha=0.0001, batch_size='auto', beta_1=0.9,\n",
       "       beta_2=0.999, early_stopping=False, epsilon=1e-08,\n",
       "       hidden_layer_sizes=(7, 5, 2, 5, 7), learning_rate='constant',\n",
       "       learning_rate_init=0.001, max_iter=20, momentum=0.9,\n",
       "       n_iter_no_change=10, nesterovs_momentum=True, power_t=0.5,\n",
       "       random_state=None, shuffle=True, solver='adam', tol=1e-07,\n",
       "       validation_fraction=0.1, verbose=True, warm_start=False)"
      ]
     },
     "execution_count": 43,
     "metadata": {},
     "output_type": "execute_result"
    }
   ],
   "source": [
    "# Loss is too big\n",
    "reg.fit(np.array(x), np.array(x))"
   ]
  },
  {
   "cell_type": "code",
   "execution_count": 68,
   "id": "eccff032",
   "metadata": {},
   "outputs": [
    {
     "data": {
      "text/plain": [
       "array([0.0013167])"
      ]
     },
     "execution_count": 68,
     "metadata": {},
     "output_type": "execute_result"
    }
   ],
   "source": [
    "ser = xt.iloc[1]\n",
    "example1 = np.array(ser)\n",
    "\n",
    "x_reconst = reg.predict(example1)\n"
   ]
  },
  {
   "cell_type": "code",
   "execution_count": 2,
   "id": "129679bd",
   "metadata": {},
   "outputs": [],
   "source": [
    "import numpy as np\n",
    "import keras\n",
    "from keras.models import Sequential, Model\n",
    "from keras.layers import Dense, Input\n",
    "from keras import optimizers\n",
    "from keras.optimizers import Adam"
   ]
  },
  {
   "cell_type": "code",
   "execution_count": 19,
   "id": "4207188f",
   "metadata": {},
   "outputs": [],
   "source": [
    "autoencoder = Sequential()\n",
    "autoencoder.add(Dense(7,  activation='elu', input_shape=(10,)))\n",
    "autoencoder.add(Dense(2,    activation='linear', name=\"bottleneck\"))\n",
    "autoencoder.add(Dense(7,  activation='elu'))\n",
    "autoencoder.add(Dense(10,  activation='sigmoid'))\n",
    "autoencoder.compile(loss='mean_squared_error', optimizer = Adam())"
   ]
  },
  {
   "cell_type": "code",
   "execution_count": 33,
   "id": "6792bf45",
   "metadata": {},
   "outputs": [
    {
     "name": "stdout",
     "output_type": "stream",
     "text": [
      "Train on 1592003 samples, validate on 398001 samples\n",
      "Epoch 1/10\n",
      "1592003/1592003 [==============================] - 15s 9us/step - loss: 4278951.8417 - val_loss: 4249120.1158\n",
      "Epoch 2/10\n",
      "1592003/1592003 [==============================] - 15s 9us/step - loss: 4278942.0509 - val_loss: 4249120.0296\n",
      "Epoch 3/10\n",
      "1592003/1592003 [==============================] - 16s 10us/step - loss: 4278941.9925 - val_loss: 4249120.0749\n",
      "Epoch 4/10\n",
      "1139200/1592003 [====================>.........] - ETA: 3s - loss: 4293573.0444"
     ]
    },
    {
     "ename": "KeyboardInterrupt",
     "evalue": "",
     "output_type": "error",
     "traceback": [
      "\u001b[0;31m---------------------------------------------------------------------------\u001b[0m",
      "\u001b[0;31mKeyboardInterrupt\u001b[0m                         Traceback (most recent call last)",
      "\u001b[0;32m<ipython-input-33-33a205afdbb4>\u001b[0m in \u001b[0;36m<module>\u001b[0;34m()\u001b[0m\n\u001b[0;32m----> 1\u001b[0;31m \u001b[0mtrained_model\u001b[0m \u001b[0;34m=\u001b[0m \u001b[0mautoencoder\u001b[0m\u001b[0;34m.\u001b[0m\u001b[0mfit\u001b[0m\u001b[0;34m(\u001b[0m\u001b[0mnp\u001b[0m\u001b[0;34m.\u001b[0m\u001b[0marray\u001b[0m\u001b[0;34m(\u001b[0m\u001b[0mx\u001b[0m\u001b[0;34m)\u001b[0m\u001b[0;34m,\u001b[0m \u001b[0mnp\u001b[0m\u001b[0;34m.\u001b[0m\u001b[0marray\u001b[0m\u001b[0;34m(\u001b[0m\u001b[0mx\u001b[0m\u001b[0;34m)\u001b[0m\u001b[0;34m,\u001b[0m \u001b[0mbatch_size\u001b[0m\u001b[0;34m=\u001b[0m\u001b[0;36m512\u001b[0m\u001b[0;34m,\u001b[0m \u001b[0mepochs\u001b[0m\u001b[0;34m=\u001b[0m\u001b[0;36m10\u001b[0m\u001b[0;34m,\u001b[0m \u001b[0mverbose\u001b[0m\u001b[0;34m=\u001b[0m\u001b[0;36m1\u001b[0m\u001b[0;34m,\u001b[0m \u001b[0mvalidation_data\u001b[0m\u001b[0;34m=\u001b[0m\u001b[0;34m(\u001b[0m\u001b[0mnp\u001b[0m\u001b[0;34m.\u001b[0m\u001b[0marray\u001b[0m\u001b[0;34m(\u001b[0m\u001b[0mxt\u001b[0m\u001b[0;34m)\u001b[0m\u001b[0;34m,\u001b[0m \u001b[0mnp\u001b[0m\u001b[0;34m.\u001b[0m\u001b[0marray\u001b[0m\u001b[0;34m(\u001b[0m\u001b[0mxt\u001b[0m\u001b[0;34m)\u001b[0m\u001b[0;34m)\u001b[0m\u001b[0;34m)\u001b[0m\u001b[0;34m\u001b[0m\u001b[0m\n\u001b[0m\u001b[1;32m      2\u001b[0m \u001b[0mencoder\u001b[0m \u001b[0;34m=\u001b[0m \u001b[0mModel\u001b[0m\u001b[0;34m(\u001b[0m\u001b[0mautoencoder\u001b[0m\u001b[0;34m.\u001b[0m\u001b[0minput\u001b[0m\u001b[0;34m,\u001b[0m \u001b[0mautoencoder\u001b[0m\u001b[0;34m.\u001b[0m\u001b[0mget_layer\u001b[0m\u001b[0;34m(\u001b[0m\u001b[0;34m'bottleneck'\u001b[0m\u001b[0;34m)\u001b[0m\u001b[0;34m.\u001b[0m\u001b[0moutput\u001b[0m\u001b[0;34m)\u001b[0m\u001b[0;34m\u001b[0m\u001b[0m\n",
      "\u001b[0;32m/Users/nicky/opt/miniconda3/envs/ml35/lib/python3.5/site-packages/keras/engine/training.py\u001b[0m in \u001b[0;36mfit\u001b[0;34m(self, x, y, batch_size, epochs, verbose, callbacks, validation_split, validation_data, shuffle, class_weight, sample_weight, initial_epoch, steps_per_epoch, validation_steps, **kwargs)\u001b[0m\n\u001b[1;32m   1035\u001b[0m                                         \u001b[0minitial_epoch\u001b[0m\u001b[0;34m=\u001b[0m\u001b[0minitial_epoch\u001b[0m\u001b[0;34m,\u001b[0m\u001b[0;34m\u001b[0m\u001b[0m\n\u001b[1;32m   1036\u001b[0m                                         \u001b[0msteps_per_epoch\u001b[0m\u001b[0;34m=\u001b[0m\u001b[0msteps_per_epoch\u001b[0m\u001b[0;34m,\u001b[0m\u001b[0;34m\u001b[0m\u001b[0m\n\u001b[0;32m-> 1037\u001b[0;31m                                         validation_steps=validation_steps)\n\u001b[0m\u001b[1;32m   1038\u001b[0m \u001b[0;34m\u001b[0m\u001b[0m\n\u001b[1;32m   1039\u001b[0m     def evaluate(self, x=None, y=None,\n",
      "\u001b[0;32m/Users/nicky/opt/miniconda3/envs/ml35/lib/python3.5/site-packages/keras/engine/training_arrays.py\u001b[0m in \u001b[0;36mfit_loop\u001b[0;34m(model, f, ins, out_labels, batch_size, epochs, verbose, callbacks, val_f, val_ins, shuffle, callback_metrics, initial_epoch, steps_per_epoch, validation_steps)\u001b[0m\n\u001b[1;32m    197\u001b[0m                     \u001b[0mins_batch\u001b[0m\u001b[0;34m[\u001b[0m\u001b[0mi\u001b[0m\u001b[0;34m]\u001b[0m \u001b[0;34m=\u001b[0m \u001b[0mins_batch\u001b[0m\u001b[0;34m[\u001b[0m\u001b[0mi\u001b[0m\u001b[0;34m]\u001b[0m\u001b[0;34m.\u001b[0m\u001b[0mtoarray\u001b[0m\u001b[0;34m(\u001b[0m\u001b[0;34m)\u001b[0m\u001b[0;34m\u001b[0m\u001b[0m\n\u001b[1;32m    198\u001b[0m \u001b[0;34m\u001b[0m\u001b[0m\n\u001b[0;32m--> 199\u001b[0;31m                 \u001b[0mouts\u001b[0m \u001b[0;34m=\u001b[0m \u001b[0mf\u001b[0m\u001b[0;34m(\u001b[0m\u001b[0mins_batch\u001b[0m\u001b[0;34m)\u001b[0m\u001b[0;34m\u001b[0m\u001b[0m\n\u001b[0m\u001b[1;32m    200\u001b[0m                 \u001b[0mouts\u001b[0m \u001b[0;34m=\u001b[0m \u001b[0mto_list\u001b[0m\u001b[0;34m(\u001b[0m\u001b[0mouts\u001b[0m\u001b[0;34m)\u001b[0m\u001b[0;34m\u001b[0m\u001b[0m\n\u001b[1;32m    201\u001b[0m                 \u001b[0;32mfor\u001b[0m \u001b[0ml\u001b[0m\u001b[0;34m,\u001b[0m \u001b[0mo\u001b[0m \u001b[0;32min\u001b[0m \u001b[0mzip\u001b[0m\u001b[0;34m(\u001b[0m\u001b[0mout_labels\u001b[0m\u001b[0;34m,\u001b[0m \u001b[0mouts\u001b[0m\u001b[0;34m)\u001b[0m\u001b[0;34m:\u001b[0m\u001b[0;34m\u001b[0m\u001b[0m\n",
      "\u001b[0;32m/Users/nicky/opt/miniconda3/envs/ml35/lib/python3.5/site-packages/keras/backend/tensorflow_backend.py\u001b[0m in \u001b[0;36m__call__\u001b[0;34m(self, inputs)\u001b[0m\n\u001b[1;32m   2664\u001b[0m                 \u001b[0;32mreturn\u001b[0m \u001b[0mself\u001b[0m\u001b[0;34m.\u001b[0m\u001b[0m_legacy_call\u001b[0m\u001b[0;34m(\u001b[0m\u001b[0minputs\u001b[0m\u001b[0;34m)\u001b[0m\u001b[0;34m\u001b[0m\u001b[0m\n\u001b[1;32m   2665\u001b[0m \u001b[0;34m\u001b[0m\u001b[0m\n\u001b[0;32m-> 2666\u001b[0;31m             \u001b[0;32mreturn\u001b[0m \u001b[0mself\u001b[0m\u001b[0;34m.\u001b[0m\u001b[0m_call\u001b[0m\u001b[0;34m(\u001b[0m\u001b[0minputs\u001b[0m\u001b[0;34m)\u001b[0m\u001b[0;34m\u001b[0m\u001b[0m\n\u001b[0m\u001b[1;32m   2667\u001b[0m         \u001b[0;32melse\u001b[0m\u001b[0;34m:\u001b[0m\u001b[0;34m\u001b[0m\u001b[0m\n\u001b[1;32m   2668\u001b[0m             \u001b[0;32mif\u001b[0m \u001b[0mpy_any\u001b[0m\u001b[0;34m(\u001b[0m\u001b[0mis_tensor\u001b[0m\u001b[0;34m(\u001b[0m\u001b[0mx\u001b[0m\u001b[0;34m)\u001b[0m \u001b[0;32mfor\u001b[0m \u001b[0mx\u001b[0m \u001b[0;32min\u001b[0m \u001b[0minputs\u001b[0m\u001b[0;34m)\u001b[0m\u001b[0;34m:\u001b[0m\u001b[0;34m\u001b[0m\u001b[0m\n",
      "\u001b[0;32m/Users/nicky/opt/miniconda3/envs/ml35/lib/python3.5/site-packages/keras/backend/tensorflow_backend.py\u001b[0m in \u001b[0;36m_call\u001b[0;34m(self, inputs)\u001b[0m\n\u001b[1;32m   2634\u001b[0m                                 \u001b[0msymbol_vals\u001b[0m\u001b[0;34m,\u001b[0m\u001b[0;34m\u001b[0m\u001b[0m\n\u001b[1;32m   2635\u001b[0m                                 session)\n\u001b[0;32m-> 2636\u001b[0;31m         \u001b[0mfetched\u001b[0m \u001b[0;34m=\u001b[0m \u001b[0mself\u001b[0m\u001b[0;34m.\u001b[0m\u001b[0m_callable_fn\u001b[0m\u001b[0;34m(\u001b[0m\u001b[0;34m*\u001b[0m\u001b[0marray_vals\u001b[0m\u001b[0;34m)\u001b[0m\u001b[0;34m\u001b[0m\u001b[0m\n\u001b[0m\u001b[1;32m   2637\u001b[0m         \u001b[0;32mreturn\u001b[0m \u001b[0mfetched\u001b[0m\u001b[0;34m[\u001b[0m\u001b[0;34m:\u001b[0m\u001b[0mlen\u001b[0m\u001b[0;34m(\u001b[0m\u001b[0mself\u001b[0m\u001b[0;34m.\u001b[0m\u001b[0moutputs\u001b[0m\u001b[0;34m)\u001b[0m\u001b[0;34m]\u001b[0m\u001b[0;34m\u001b[0m\u001b[0m\n\u001b[1;32m   2638\u001b[0m \u001b[0;34m\u001b[0m\u001b[0m\n",
      "\u001b[0;32m/Users/nicky/opt/miniconda3/envs/ml35/lib/python3.5/site-packages/tensorflow/python/client/session.py\u001b[0m in \u001b[0;36m__call__\u001b[0;34m(self, *args, **kwargs)\u001b[0m\n\u001b[1;32m   1380\u001b[0m           ret = tf_session.TF_SessionRunCallable(\n\u001b[1;32m   1381\u001b[0m               \u001b[0mself\u001b[0m\u001b[0;34m.\u001b[0m\u001b[0m_session\u001b[0m\u001b[0;34m.\u001b[0m\u001b[0m_session\u001b[0m\u001b[0;34m,\u001b[0m \u001b[0mself\u001b[0m\u001b[0;34m.\u001b[0m\u001b[0m_handle\u001b[0m\u001b[0;34m,\u001b[0m \u001b[0margs\u001b[0m\u001b[0;34m,\u001b[0m \u001b[0mstatus\u001b[0m\u001b[0;34m,\u001b[0m\u001b[0;34m\u001b[0m\u001b[0m\n\u001b[0;32m-> 1382\u001b[0;31m               run_metadata_ptr)\n\u001b[0m\u001b[1;32m   1383\u001b[0m         \u001b[0;32mif\u001b[0m \u001b[0mrun_metadata\u001b[0m\u001b[0;34m:\u001b[0m\u001b[0;34m\u001b[0m\u001b[0m\n\u001b[1;32m   1384\u001b[0m           \u001b[0mproto_data\u001b[0m \u001b[0;34m=\u001b[0m \u001b[0mtf_session\u001b[0m\u001b[0;34m.\u001b[0m\u001b[0mTF_GetBuffer\u001b[0m\u001b[0;34m(\u001b[0m\u001b[0mrun_metadata_ptr\u001b[0m\u001b[0;34m)\u001b[0m\u001b[0;34m\u001b[0m\u001b[0m\n",
      "\u001b[0;31mKeyboardInterrupt\u001b[0m: "
     ]
    }
   ],
   "source": [
    "trained_model = autoencoder.fit(np.array(x), np.array(x), batch_size=512, epochs=10, verbose=1, validation_data=(np.array(xt), np.array(xt)))\n",
    "encoder = Model(autoencoder.input, autoencoder.get_layer('bottleneck').output)"
   ]
  },
  {
   "cell_type": "code",
   "execution_count": 24,
   "id": "cec96bf6",
   "metadata": {},
   "outputs": [],
   "source": [
    "from keras.datasets import mnist"
   ]
  },
  {
   "cell_type": "code",
   "execution_count": 25,
   "id": "7bb612c7",
   "metadata": {},
   "outputs": [],
   "source": [
    "(x_train, y_train), (x_test, y_test) = mnist.load_data()\n",
    "train_x = x_train.reshape(60000, 784) / 255\n",
    "val_x = x_test.reshape(10000, 784) / 255"
   ]
  }
 ],
 "metadata": {
  "kernelspec": {
   "display_name": "Python 3",
   "language": "python",
   "name": "python3"
  },
  "language_info": {
   "codemirror_mode": {
    "name": "ipython",
    "version": 3
   },
   "file_extension": ".py",
   "mimetype": "text/x-python",
   "name": "python",
   "nbconvert_exporter": "python",
   "pygments_lexer": "ipython3",
   "version": "3.7.3"
  }
 },
 "nbformat": 4,
 "nbformat_minor": 5
}
